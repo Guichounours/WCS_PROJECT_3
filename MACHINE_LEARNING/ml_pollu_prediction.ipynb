{
 "cells": [
  {
   "cell_type": "markdown",
   "metadata": {},
   "source": [
    "# Predicting the Air Quality for next days"
   ]
  },
  {
   "cell_type": "markdown",
   "metadata": {},
   "source": [
    "* Source: file \"P3_WildAir/Open_Meteo_com/OpenMeteo_data/dwl_csv_openmeteo_2124.ipynb\";\n",
    "* source: file \"P3 wildAir\\p3_WildAir\\Open_Meteo_com\\OpenMeteo_data\\csv_wind4ML.ipynb\";\n",
    "* Each meteo features have the unity measure on title;\n",
    "* For the wind \"u10\" and \"v10\" unities (number means speed):\n",
    "    - A positive \"u\" means wind blowing from the West to East (if negative is in the opposing direction);\n",
    "    - A positive \"v\" is wind blowing from South to North (if negative...);\n",
    "* Each pollutant is on micrograms (one-millionth of a gram) per cubic meter air or \"µg/m3\".\n",
    "* Machine Learning hybrid model using Random Forest Regressor and Prophet (Meta):\n",
    "    - Prophet will be trained only with \"date\" and a given \"pollutant\" and predicting from temporarie patterns;\n",
    "    - RFR will be trained with meteo data from 2021 to 2024;\n",
    "    - FRFProphet will be predicting based on meteo predictions and refining the earlier Prophet predictions;"
   ]
  },
  {
   "cell_type": "code",
   "execution_count": 1,
   "metadata": {},
   "outputs": [],
   "source": [
    "##### LIBRARIES IN USE #########\n",
    "\n",
    "##### To get the Open-Meteo data #####\n",
    "import openmeteo_requests\n",
    "import requests_cache\n",
    "from retry_requests import retry\n",
    "\n",
    "##### Working the Data ######\n",
    "import pandas as pd\n",
    "import numpy as np\n",
    "\n",
    "##### DataViz #####\n",
    "import matplotlib.pyplot as plt\n",
    "import seaborn as sns\n",
    "\n",
    "##### Machine Learning #####\n",
    "from sklearn.model_selection import train_test_split\n",
    "from sklearn.ensemble import RandomForestRegressor\n",
    "from sklearn.metrics import mean_absolute_error, mean_squared_error, r2_score\n",
    "from sklearn.metrics import root_mean_squared_error\n",
    "from sklearn.model_selection import GridSearchCV\n",
    "from prophet import Prophet\n",
    "from sklearn.ensemble import GradientBoostingRegressor\n",
    "#from fbprophet import Prophet\n"
   ]
  },
  {
   "cell_type": "markdown",
   "metadata": {},
   "source": [
    "## 1. Getting the Open-Meteo forecast for the next 14 days"
   ]
  },
  {
   "cell_type": "markdown",
   "metadata": {},
   "source": [
    "### The Open-Meteo forecast: from download to dataframe "
   ]
  },
  {
   "cell_type": "code",
   "execution_count": 19,
   "metadata": {},
   "outputs": [
    {
     "name": "stdout",
     "output_type": "stream",
     "text": [
      "Coordinates 45.7400016784668°N 4.820000171661377°E\n",
      "Elevation 170.0 m asl\n",
      "Timezone b'Europe/Berlin' b'GMT+1'\n",
      "Timezone difference to GMT+0 3600 s\n",
      "                         date  temperature_2m  relative_humidity_2m  rain  \\\n",
      "0   2025-02-14 23:00:00+00:00           0.952                  72.0   0.0   \n",
      "1   2025-02-15 00:00:00+00:00           0.652                  71.0   0.0   \n",
      "2   2025-02-15 01:00:00+00:00           0.852                  68.0   0.0   \n",
      "3   2025-02-15 02:00:00+00:00           0.202                  72.0   0.0   \n",
      "4   2025-02-15 03:00:00+00:00          -0.498                  75.0   0.0   \n",
      "..                        ...             ...                   ...   ...   \n",
      "331 2025-02-28 18:00:00+00:00           9.086                  66.0   0.0   \n",
      "332 2025-02-28 19:00:00+00:00           8.536                  69.0   0.0   \n",
      "333 2025-02-28 20:00:00+00:00           8.036                  71.0   0.0   \n",
      "334 2025-02-28 21:00:00+00:00           7.736                  73.0   0.0   \n",
      "335 2025-02-28 22:00:00+00:00           7.686                  73.0   0.0   \n",
      "\n",
      "     snowfall  surface_pressure  cloud_cover  wind_speed_10m  \\\n",
      "0         0.0       1001.497620          0.0       10.195057   \n",
      "1         0.0       1001.376404          0.0        7.903619   \n",
      "2         0.0       1001.489807          0.0        5.804825   \n",
      "3         0.0       1001.635498          0.0        6.725354   \n",
      "4         0.0       1000.699890          0.0        5.771239   \n",
      "..        ...               ...          ...             ...   \n",
      "331       0.0        992.995972         18.0        4.680000   \n",
      "332       0.0        993.347961         44.0        3.319036   \n",
      "333       0.0        993.801453         70.0        1.800000   \n",
      "334       0.0        994.073486         96.0        1.080000   \n",
      "335       0.0        993.972107         97.0        1.138420   \n",
      "\n",
      "     wind_direction_10m  \n",
      "0            312.137512  \n",
      "1            329.931488  \n",
      "2              7.124930  \n",
      "3             15.524177  \n",
      "4            356.423737  \n",
      "..                  ...  \n",
      "331          360.000000  \n",
      "332           12.528798  \n",
      "333           36.869991  \n",
      "334           90.000000  \n",
      "335          161.564957  \n",
      "\n",
      "[336 rows x 9 columns]\n"
     ]
    }
   ],
   "source": [
    "# Setup the Open-Meteo API client with cache and retry on error\n",
    "cache_session = requests_cache.CachedSession('.cache', expire_after = 3600)\n",
    "retry_session = retry(cache_session, retries = 5, backoff_factor = 0.2)\n",
    "openmeteo = openmeteo_requests.Client(session = retry_session)\n",
    "\n",
    "# Make sure all required weather variables are listed here\n",
    "# The order of variables in hourly or daily is important to assign them correctly below\n",
    "url = \"https://api.open-meteo.com/v1/forecast\"\n",
    "params = {\n",
    "\t\"latitude\": 45.7462,\n",
    "\t\"longitude\": 4.827,\n",
    "\t\"hourly\": [\"temperature_2m\", \"relative_humidity_2m\", \"rain\", \"snowfall\", \"surface_pressure\", \"cloud_cover\", \"wind_speed_10m\", \"wind_direction_10m\"],\n",
    "\t\"timezone\": \"Europe/Berlin\",\n",
    "\t\"forecast_days\": 14\n",
    "}\n",
    "responses = openmeteo.weather_api(url, params=params)\n",
    "\n",
    "# Process first location. Add a for-loop for multiple locations or weather models\n",
    "response = responses[0]\n",
    "print(f\"Coordinates {response.Latitude()}°N {response.Longitude()}°E\")\n",
    "print(f\"Elevation {response.Elevation()} m asl\")\n",
    "print(f\"Timezone {response.Timezone()} {response.TimezoneAbbreviation()}\")\n",
    "print(f\"Timezone difference to GMT+0 {response.UtcOffsetSeconds()} s\")\n",
    "\n",
    "# Process hourly data. The order of variables needs to be the same as requested.\n",
    "hourly = response.Hourly()\n",
    "hourly_temperature_2m = hourly.Variables(0).ValuesAsNumpy()\n",
    "hourly_relative_humidity_2m = hourly.Variables(1).ValuesAsNumpy()\n",
    "hourly_rain = hourly.Variables(2).ValuesAsNumpy()\n",
    "hourly_snowfall = hourly.Variables(3).ValuesAsNumpy()\n",
    "hourly_surface_pressure = hourly.Variables(4).ValuesAsNumpy()\n",
    "hourly_cloud_cover = hourly.Variables(5).ValuesAsNumpy()\n",
    "hourly_wind_speed_10m = hourly.Variables(6).ValuesAsNumpy()\n",
    "hourly_wind_direction_10m = hourly.Variables(7).ValuesAsNumpy()\n",
    "\n",
    "hourly_data = {\"date\": pd.date_range(\n",
    "\tstart = pd.to_datetime(hourly.Time(), unit = \"s\", utc = True),\n",
    "\tend = pd.to_datetime(hourly.TimeEnd(), unit = \"s\", utc = True),\n",
    "\tfreq = pd.Timedelta(seconds = hourly.Interval()),\n",
    "\tinclusive = \"left\"\n",
    ")}\n",
    "\n",
    "hourly_data[\"temperature_2m\"] = hourly_temperature_2m\n",
    "hourly_data[\"relative_humidity_2m\"] = hourly_relative_humidity_2m\n",
    "hourly_data[\"rain\"] = hourly_rain\n",
    "hourly_data[\"snowfall\"] = hourly_snowfall\n",
    "hourly_data[\"surface_pressure\"] = hourly_surface_pressure\n",
    "hourly_data[\"cloud_cover\"] = hourly_cloud_cover\n",
    "hourly_data[\"wind_speed_10m\"] = hourly_wind_speed_10m\n",
    "hourly_data[\"wind_direction_10m\"] = hourly_wind_direction_10m\n",
    "\n",
    "hourly_dataframe = pd.DataFrame(data = hourly_data)\n",
    "print(hourly_dataframe)\n",
    "\n"
   ]
  },
  {
   "cell_type": "markdown",
   "metadata": {},
   "source": [
    "### 1.1 Setting up the dataframe"
   ]
  },
  {
   "cell_type": "code",
   "execution_count": 20,
   "metadata": {},
   "outputs": [],
   "source": [
    "hourly_dataframe.to_csv(\"df_meteoforecast_14_28fev25.csv\", index=False)"
   ]
  },
  {
   "cell_type": "code",
   "execution_count": 2,
   "metadata": {},
   "outputs": [],
   "source": [
    "df_predict_pm25 = pd.read_csv(r\"C:\\Users\\sophi\\FrMarques\\LyonData WCS new\\P3 wildAir\\p3_WildAir\\Prediction_final_ML\\df_meteoforecast_14_28fev25.csv\")"
   ]
  },
  {
   "cell_type": "markdown",
   "metadata": {},
   "source": [
    "### 1.2 Turning \"date\" into datetime dtype\n",
    "* And adding a new \"date_only\" date without the hours"
   ]
  },
  {
   "cell_type": "code",
   "execution_count": 3,
   "metadata": {},
   "outputs": [],
   "source": [
    "########## Turn column \"date\" into \"datetime\":\n",
    "df_predict_pm25[\"date\"] = pd.to_datetime(df_predict_pm25[\"date\"])\n",
    "\n",
    "# Adding a new column just with the date and no hours:\n",
    "df_predict_pm25[\"date_only\"] = df_predict_pm25[\"date\"].dt.date"
   ]
  },
  {
   "cell_type": "markdown",
   "metadata": {},
   "source": [
    "### 1.3 Calculatings the daily average for each numerical variable\n",
    "* And sets a new traditional index"
   ]
  },
  {
   "cell_type": "code",
   "execution_count": 4,
   "metadata": {},
   "outputs": [],
   "source": [
    "df_predict_pm25 = df_predict_pm25.groupby(\"date_only\").mean().reset_index()"
   ]
  },
  {
   "cell_type": "markdown",
   "metadata": {},
   "source": [
    "### 1.4 Turning \"date_only\"/index into datetime dtype"
   ]
  },
  {
   "cell_type": "code",
   "execution_count": 118,
   "metadata": {},
   "outputs": [],
   "source": [
    "df_predict_pm25[\"date_only\"] = pd.to_datetime(df_predict_pm25[\"date_only\"])"
   ]
  },
  {
   "cell_type": "markdown",
   "metadata": {},
   "source": [
    "### 1.5 Dropping unnecessary column"
   ]
  },
  {
   "cell_type": "code",
   "execution_count": 119,
   "metadata": {},
   "outputs": [],
   "source": [
    "df_predict_pm25 = df_predict_pm25.drop(columns=\"date\")"
   ]
  },
  {
   "cell_type": "markdown",
   "metadata": {},
   "source": [
    "### 1.6 Renaming the columns/features"
   ]
  },
  {
   "cell_type": "code",
   "execution_count": 120,
   "metadata": {},
   "outputs": [],
   "source": [
    "df_predict_pm25 = df_predict_pm25.rename(columns={\n",
    "    \"date_only\": \"date_id\",\n",
    "    \"temperature_2m\": \"temp_c\",\n",
    "    \"relative_humidity_2m\": \"humidity_%\",\n",
    "    \"rain\": \"rain_mm\",\n",
    "    \"snowfall\": \"snowfall_cm\",\n",
    "    \"surface_pressure\": \"atmopressure_hpa\",\n",
    "    \"cloud_cover\": \"cloudcover_%\",\n",
    "    \"wind_speed_10m\": \"windspeed_kmh\",\n",
    "    \"wind_direction_10m\": \"winddirection_360\"\n",
    "    })"
   ]
  },
  {
   "cell_type": "markdown",
   "metadata": {},
   "source": [
    "### 1.7 Setting the \"date-id\" as the index"
   ]
  },
  {
   "cell_type": "code",
   "execution_count": 121,
   "metadata": {},
   "outputs": [],
   "source": [
    "df_predict_pm25.set_index('date_id', inplace=True)"
   ]
  },
  {
   "cell_type": "markdown",
   "metadata": {},
   "source": [
    "### 1.8 Creating wind features usable by the ML"
   ]
  },
  {
   "cell_type": "code",
   "execution_count": 122,
   "metadata": {},
   "outputs": [],
   "source": [
    "df_predict_pm25[\"windspeed_ms\"] = df_predict_pm25[\"windspeed_kmh\"] * 0.277778   # turning speed from km/h to m/s;\n",
    "wind_dir_rad = np.radians(df_predict_pm25[\"winddirection_360\"])                   # turning direction to radians;\n",
    "df_predict_pm25[\"u10\"] = -df_predict_pm25[\"windspeed_ms\"] * np.sin(wind_dir_rad)   # calculating \"u\" and \"v\";\n",
    "df_predict_pm25[\"v10\"] = -df_predict_pm25[\"windspeed_ms\"] * np.cos(wind_dir_rad)"
   ]
  },
  {
   "cell_type": "markdown",
   "metadata": {},
   "source": [
    "### 1.9 Droping unnecessary wind features"
   ]
  },
  {
   "cell_type": "code",
   "execution_count": 123,
   "metadata": {},
   "outputs": [],
   "source": [
    "columns2drop = [\"windspeed_ms\", \"windspeed_kmh\", \"winddirection_360\"]\n",
    "\n",
    "df_predict_pm25 = df_predict_pm25.drop(columns=columns2drop)"
   ]
  },
  {
   "cell_type": "code",
   "execution_count": 135,
   "metadata": {},
   "outputs": [
    {
     "data": {
      "text/html": [
       "<div>\n",
       "<style scoped>\n",
       "    .dataframe tbody tr th:only-of-type {\n",
       "        vertical-align: middle;\n",
       "    }\n",
       "\n",
       "    .dataframe tbody tr th {\n",
       "        vertical-align: top;\n",
       "    }\n",
       "\n",
       "    .dataframe thead th {\n",
       "        text-align: right;\n",
       "    }\n",
       "</style>\n",
       "<table border=\"1\" class=\"dataframe\">\n",
       "  <thead>\n",
       "    <tr style=\"text-align: right;\">\n",
       "      <th></th>\n",
       "      <th>temp_c</th>\n",
       "      <th>humidity_%</th>\n",
       "      <th>rain_mm</th>\n",
       "      <th>snowfall_cm</th>\n",
       "      <th>atmopressure_hpa</th>\n",
       "      <th>cloudcover_%</th>\n",
       "      <th>u10</th>\n",
       "      <th>v10</th>\n",
       "    </tr>\n",
       "    <tr>\n",
       "      <th>date_id</th>\n",
       "      <th></th>\n",
       "      <th></th>\n",
       "      <th></th>\n",
       "      <th></th>\n",
       "      <th></th>\n",
       "      <th></th>\n",
       "      <th></th>\n",
       "      <th></th>\n",
       "    </tr>\n",
       "  </thead>\n",
       "  <tbody>\n",
       "    <tr>\n",
       "      <th>2025-02-14</th>\n",
       "      <td>0.9520</td>\n",
       "      <td>72.00</td>\n",
       "      <td>0.0</td>\n",
       "      <td>0.0</td>\n",
       "      <td>1001.49760</td>\n",
       "      <td>0.000000</td>\n",
       "      <td>2.100005</td>\n",
       "      <td>-1.899998</td>\n",
       "    </tr>\n",
       "    <tr>\n",
       "      <th>2025-02-15</th>\n",
       "      <td>1.8145</td>\n",
       "      <td>67.25</td>\n",
       "      <td>0.0</td>\n",
       "      <td>0.0</td>\n",
       "      <td>998.68566</td>\n",
       "      <td>36.958333</td>\n",
       "      <td>0.272833</td>\n",
       "      <td>1.006401</td>\n",
       "    </tr>\n",
       "  </tbody>\n",
       "</table>\n",
       "</div>"
      ],
      "text/plain": [
       "            temp_c  humidity_%  rain_mm  snowfall_cm  atmopressure_hpa  \\\n",
       "date_id                                                                  \n",
       "2025-02-14  0.9520       72.00      0.0          0.0        1001.49760   \n",
       "2025-02-15  1.8145       67.25      0.0          0.0         998.68566   \n",
       "\n",
       "            cloudcover_%       u10       v10  \n",
       "date_id                                       \n",
       "2025-02-14      0.000000  2.100005 -1.899998  \n",
       "2025-02-15     36.958333  0.272833  1.006401  "
      ]
     },
     "execution_count": 135,
     "metadata": {},
     "output_type": "execute_result"
    }
   ],
   "source": [
    "df_predict_pm25.head(2)"
   ]
  },
  {
   "cell_type": "code",
   "execution_count": null,
   "metadata": {},
   "outputs": [],
   "source": [
    "df_predict_pm25.to_csv(\"df_meteo_14_28fev2025.csv\")"
   ]
  },
  {
   "cell_type": "code",
   "execution_count": 32,
   "metadata": {},
   "outputs": [
    {
     "name": "stdout",
     "output_type": "stream",
     "text": [
      "(15, 8)\n"
     ]
    },
    {
     "data": {
      "text/html": [
       "<div>\n",
       "<style scoped>\n",
       "    .dataframe tbody tr th:only-of-type {\n",
       "        vertical-align: middle;\n",
       "    }\n",
       "\n",
       "    .dataframe tbody tr th {\n",
       "        vertical-align: top;\n",
       "    }\n",
       "\n",
       "    .dataframe thead th {\n",
       "        text-align: right;\n",
       "    }\n",
       "</style>\n",
       "<table border=\"1\" class=\"dataframe\">\n",
       "  <thead>\n",
       "    <tr style=\"text-align: right;\">\n",
       "      <th></th>\n",
       "      <th>temp_c</th>\n",
       "      <th>humidity_%</th>\n",
       "      <th>rain_mm</th>\n",
       "      <th>snowfall_cm</th>\n",
       "      <th>atmopressure_hpa</th>\n",
       "      <th>cloudcover_%</th>\n",
       "      <th>u10</th>\n",
       "      <th>v10</th>\n",
       "    </tr>\n",
       "    <tr>\n",
       "      <th>date_id</th>\n",
       "      <th></th>\n",
       "      <th></th>\n",
       "      <th></th>\n",
       "      <th></th>\n",
       "      <th></th>\n",
       "      <th></th>\n",
       "      <th></th>\n",
       "      <th></th>\n",
       "    </tr>\n",
       "  </thead>\n",
       "  <tbody>\n",
       "    <tr>\n",
       "      <th>2025-02-14</th>\n",
       "      <td>0.9520</td>\n",
       "      <td>72.00</td>\n",
       "      <td>0.0</td>\n",
       "      <td>0.0</td>\n",
       "      <td>1001.49760</td>\n",
       "      <td>0.000000</td>\n",
       "      <td>2.100005</td>\n",
       "      <td>-1.899998</td>\n",
       "    </tr>\n",
       "    <tr>\n",
       "      <th>2025-02-15</th>\n",
       "      <td>1.8145</td>\n",
       "      <td>67.25</td>\n",
       "      <td>0.0</td>\n",
       "      <td>0.0</td>\n",
       "      <td>998.68566</td>\n",
       "      <td>36.958333</td>\n",
       "      <td>0.272833</td>\n",
       "      <td>1.006401</td>\n",
       "    </tr>\n",
       "  </tbody>\n",
       "</table>\n",
       "</div>"
      ],
      "text/plain": [
       "            temp_c  humidity_%  rain_mm  snowfall_cm  atmopressure_hpa  \\\n",
       "date_id                                                                  \n",
       "2025-02-14  0.9520       72.00      0.0          0.0        1001.49760   \n",
       "2025-02-15  1.8145       67.25      0.0          0.0         998.68566   \n",
       "\n",
       "            cloudcover_%       u10       v10  \n",
       "date_id                                       \n",
       "2025-02-14      0.000000  2.100005 -1.899998  \n",
       "2025-02-15     36.958333  0.272833  1.006401  "
      ]
     },
     "metadata": {},
     "output_type": "display_data"
    },
    {
     "data": {
      "text/html": [
       "<div>\n",
       "<style scoped>\n",
       "    .dataframe tbody tr th:only-of-type {\n",
       "        vertical-align: middle;\n",
       "    }\n",
       "\n",
       "    .dataframe tbody tr th {\n",
       "        vertical-align: top;\n",
       "    }\n",
       "\n",
       "    .dataframe thead th {\n",
       "        text-align: right;\n",
       "    }\n",
       "</style>\n",
       "<table border=\"1\" class=\"dataframe\">\n",
       "  <thead>\n",
       "    <tr style=\"text-align: right;\">\n",
       "      <th></th>\n",
       "      <th>temp_c</th>\n",
       "      <th>humidity_%</th>\n",
       "      <th>rain_mm</th>\n",
       "      <th>snowfall_cm</th>\n",
       "      <th>atmopressure_hpa</th>\n",
       "      <th>cloudcover_%</th>\n",
       "      <th>u10</th>\n",
       "      <th>v10</th>\n",
       "    </tr>\n",
       "    <tr>\n",
       "      <th>date_id</th>\n",
       "      <th></th>\n",
       "      <th></th>\n",
       "      <th></th>\n",
       "      <th></th>\n",
       "      <th></th>\n",
       "      <th></th>\n",
       "      <th></th>\n",
       "      <th></th>\n",
       "    </tr>\n",
       "  </thead>\n",
       "  <tbody>\n",
       "    <tr>\n",
       "      <th>2025-02-24</th>\n",
       "      <td>9.6610</td>\n",
       "      <td>87.250000</td>\n",
       "      <td>0.133333</td>\n",
       "      <td>0.0</td>\n",
       "      <td>1005.618386</td>\n",
       "      <td>99.666667</td>\n",
       "      <td>-0.014809</td>\n",
       "      <td>2.237744</td>\n",
       "    </tr>\n",
       "    <tr>\n",
       "      <th>2025-02-21</th>\n",
       "      <td>10.6705</td>\n",
       "      <td>70.416667</td>\n",
       "      <td>0.000000</td>\n",
       "      <td>0.0</td>\n",
       "      <td>1005.885250</td>\n",
       "      <td>9.125000</td>\n",
       "      <td>-1.119322</td>\n",
       "      <td>4.362220</td>\n",
       "    </tr>\n",
       "  </tbody>\n",
       "</table>\n",
       "</div>"
      ],
      "text/plain": [
       "             temp_c  humidity_%   rain_mm  snowfall_cm  atmopressure_hpa  \\\n",
       "date_id                                                                    \n",
       "2025-02-24   9.6610   87.250000  0.133333          0.0       1005.618386   \n",
       "2025-02-21  10.6705   70.416667  0.000000          0.0       1005.885250   \n",
       "\n",
       "            cloudcover_%       u10       v10  \n",
       "date_id                                       \n",
       "2025-02-24     99.666667 -0.014809  2.237744  \n",
       "2025-02-21      9.125000 -1.119322  4.362220  "
      ]
     },
     "metadata": {},
     "output_type": "display_data"
    },
    {
     "data": {
      "text/html": [
       "<div>\n",
       "<style scoped>\n",
       "    .dataframe tbody tr th:only-of-type {\n",
       "        vertical-align: middle;\n",
       "    }\n",
       "\n",
       "    .dataframe tbody tr th {\n",
       "        vertical-align: top;\n",
       "    }\n",
       "\n",
       "    .dataframe thead th {\n",
       "        text-align: right;\n",
       "    }\n",
       "</style>\n",
       "<table border=\"1\" class=\"dataframe\">\n",
       "  <thead>\n",
       "    <tr style=\"text-align: right;\">\n",
       "      <th></th>\n",
       "      <th>temp_c</th>\n",
       "      <th>humidity_%</th>\n",
       "      <th>rain_mm</th>\n",
       "      <th>snowfall_cm</th>\n",
       "      <th>atmopressure_hpa</th>\n",
       "      <th>cloudcover_%</th>\n",
       "      <th>u10</th>\n",
       "      <th>v10</th>\n",
       "    </tr>\n",
       "    <tr>\n",
       "      <th>date_id</th>\n",
       "      <th></th>\n",
       "      <th></th>\n",
       "      <th></th>\n",
       "      <th></th>\n",
       "      <th></th>\n",
       "      <th></th>\n",
       "      <th></th>\n",
       "      <th></th>\n",
       "    </tr>\n",
       "  </thead>\n",
       "  <tbody>\n",
       "    <tr>\n",
       "      <th>2025-02-27</th>\n",
       "      <td>9.300583</td>\n",
       "      <td>79.791667</td>\n",
       "      <td>0.291667</td>\n",
       "      <td>0.0</td>\n",
       "      <td>993.002606</td>\n",
       "      <td>100.000000</td>\n",
       "      <td>0.989340</td>\n",
       "      <td>3.823775</td>\n",
       "    </tr>\n",
       "    <tr>\n",
       "      <th>2025-02-28</th>\n",
       "      <td>7.838174</td>\n",
       "      <td>74.086957</td>\n",
       "      <td>0.034783</td>\n",
       "      <td>0.0</td>\n",
       "      <td>993.874783</td>\n",
       "      <td>65.869565</td>\n",
       "      <td>0.498153</td>\n",
       "      <td>2.003815</td>\n",
       "    </tr>\n",
       "  </tbody>\n",
       "</table>\n",
       "</div>"
      ],
      "text/plain": [
       "              temp_c  humidity_%   rain_mm  snowfall_cm  atmopressure_hpa  \\\n",
       "date_id                                                                     \n",
       "2025-02-27  9.300583   79.791667  0.291667          0.0        993.002606   \n",
       "2025-02-28  7.838174   74.086957  0.034783          0.0        993.874783   \n",
       "\n",
       "            cloudcover_%       u10       v10  \n",
       "date_id                                       \n",
       "2025-02-27    100.000000  0.989340  3.823775  \n",
       "2025-02-28     65.869565  0.498153  2.003815  "
      ]
     },
     "metadata": {},
     "output_type": "display_data"
    }
   ],
   "source": [
    "print(df_predict_pm25.shape)\n",
    "display(df_predict_pm25.head(2))\n",
    "display(df_predict_pm25.sample(2))\n",
    "display(df_predict_pm25.tail(2))"
   ]
  },
  {
   "cell_type": "markdown",
   "metadata": {},
   "source": [
    "## 2. Getting the pollutants dataframe 2021-2024\n",
    "* To be used in the Prophet training"
   ]
  },
  {
   "cell_type": "code",
   "execution_count": 14,
   "metadata": {},
   "outputs": [],
   "source": [
    "df_polluant_GA2124 = pd.read_csv(r\"C:\\Users\\sophi\\FrMarques\\LyonData WCS new\\P3 wildAir\\p3_WildAir\\Open_Meteo_com\\OpenMeteo_data\\CSV\\CSV_polluant2124\\df_polluants_21_24.csv\", sep=\";\")"
   ]
  },
  {
   "cell_type": "code",
   "execution_count": 15,
   "metadata": {},
   "outputs": [],
   "source": [
    "df_polluant_GA2124[\"Date\"] = pd.to_datetime(df_polluant_GA2124[\"Date\"])\n",
    "df_polluant_GA2124 = df_polluant_GA2124.rename(columns={\n",
    "    \"Date\": \"date_id\",\n",
    "    \"NO2\": \"no2\",\n",
    "    \"O3\": \"o3\",\n",
    "    \"PM10\": \"pm10\",\n",
    "    \"PM2.5\": \"pm2.5\",\n",
    "    \"SO2\": \"so2\"\n",
    "})"
   ]
  },
  {
   "cell_type": "code",
   "execution_count": 16,
   "metadata": {},
   "outputs": [
    {
     "name": "stdout",
     "output_type": "stream",
     "text": [
      "(1461, 6)\n"
     ]
    },
    {
     "data": {
      "text/html": [
       "<div>\n",
       "<style scoped>\n",
       "    .dataframe tbody tr th:only-of-type {\n",
       "        vertical-align: middle;\n",
       "    }\n",
       "\n",
       "    .dataframe tbody tr th {\n",
       "        vertical-align: top;\n",
       "    }\n",
       "\n",
       "    .dataframe thead th {\n",
       "        text-align: right;\n",
       "    }\n",
       "</style>\n",
       "<table border=\"1\" class=\"dataframe\">\n",
       "  <thead>\n",
       "    <tr style=\"text-align: right;\">\n",
       "      <th></th>\n",
       "      <th>date_id</th>\n",
       "      <th>no2</th>\n",
       "      <th>o3</th>\n",
       "      <th>pm10</th>\n",
       "      <th>pm2.5</th>\n",
       "      <th>so2</th>\n",
       "    </tr>\n",
       "  </thead>\n",
       "  <tbody>\n",
       "    <tr>\n",
       "      <th>0</th>\n",
       "      <td>2021-01-01</td>\n",
       "      <td>71.0</td>\n",
       "      <td>58.3</td>\n",
       "      <td>24.2</td>\n",
       "      <td>24.2</td>\n",
       "      <td>8.1</td>\n",
       "    </tr>\n",
       "    <tr>\n",
       "      <th>1</th>\n",
       "      <td>2021-01-02</td>\n",
       "      <td>46.0</td>\n",
       "      <td>49.8</td>\n",
       "      <td>23.2</td>\n",
       "      <td>16.4</td>\n",
       "      <td>31.4</td>\n",
       "    </tr>\n",
       "    <tr>\n",
       "      <th>2</th>\n",
       "      <td>2021-01-03</td>\n",
       "      <td>77.5</td>\n",
       "      <td>49.8</td>\n",
       "      <td>57.3</td>\n",
       "      <td>55.9</td>\n",
       "      <td>4.7</td>\n",
       "    </tr>\n",
       "  </tbody>\n",
       "</table>\n",
       "</div>"
      ],
      "text/plain": [
       "     date_id   no2    o3  pm10  pm2.5   so2\n",
       "0 2021-01-01  71.0  58.3  24.2   24.2   8.1\n",
       "1 2021-01-02  46.0  49.8  23.2   16.4  31.4\n",
       "2 2021-01-03  77.5  49.8  57.3   55.9   4.7"
      ]
     },
     "metadata": {},
     "output_type": "display_data"
    }
   ],
   "source": [
    "print(df_polluant_GA2124.shape)\n",
    "display(df_polluant_GA2124.head(3))"
   ]
  },
  {
   "cell_type": "markdown",
   "metadata": {},
   "source": [
    "## 3. Training the Prophet model\n",
    "* And saving the forecasts for the 14 days after the last historic date it has available and that is not good for our project."
   ]
  },
  {
   "cell_type": "code",
   "execution_count": 9,
   "metadata": {},
   "outputs": [
    {
     "name": "stdout",
     "output_type": "stream",
     "text": [
      "Training Prophet for no2\n"
     ]
    },
    {
     "name": "stderr",
     "output_type": "stream",
     "text": [
      "20:41:34 - cmdstanpy - INFO - Chain [1] start processing\n",
      "20:41:35 - cmdstanpy - INFO - Chain [1] done processing\n"
     ]
    },
    {
     "name": "stdout",
     "output_type": "stream",
     "text": [
      "Training Prophet for o3\n"
     ]
    },
    {
     "name": "stderr",
     "output_type": "stream",
     "text": [
      "20:41:36 - cmdstanpy - INFO - Chain [1] start processing\n",
      "20:41:36 - cmdstanpy - INFO - Chain [1] done processing\n"
     ]
    },
    {
     "name": "stdout",
     "output_type": "stream",
     "text": [
      "Training Prophet for pm10\n"
     ]
    },
    {
     "name": "stderr",
     "output_type": "stream",
     "text": [
      "20:41:37 - cmdstanpy - INFO - Chain [1] start processing\n",
      "20:41:37 - cmdstanpy - INFO - Chain [1] done processing\n"
     ]
    },
    {
     "name": "stdout",
     "output_type": "stream",
     "text": [
      "Training Prophet for pm2.5\n"
     ]
    },
    {
     "name": "stderr",
     "output_type": "stream",
     "text": [
      "20:41:38 - cmdstanpy - INFO - Chain [1] start processing\n",
      "20:41:39 - cmdstanpy - INFO - Chain [1] done processing\n"
     ]
    },
    {
     "name": "stdout",
     "output_type": "stream",
     "text": [
      "Training Prophet for so2\n"
     ]
    },
    {
     "name": "stderr",
     "output_type": "stream",
     "text": [
      "20:41:40 - cmdstanpy - INFO - Chain [1] start processing\n",
      "20:41:40 - cmdstanpy - INFO - Chain [1] done processing\n"
     ]
    }
   ],
   "source": [
    "# # 🟢 1️⃣ Carregar os dados históricos de poluentes (2021-2024)\n",
    "# df_poluentes = pd.read_csv(\"dados_poluentes_2021_2024.csv\")\n",
    "\n",
    "# Preparing to get forecasts from Prophet for each pollutant:\n",
    "pollutants = [\"no2\", \"o3\", \"pm10\", \"pm2.5\", \"so2\"]\n",
    "forecast_prophet = {}\n",
    "\n",
    "for pollutant in pollutants:\n",
    "    print(f\"Training Prophet for {pollutant}\")\n",
    "    \n",
    "    # Creating a dataset with the Prophet structure:\n",
    "    df_prophet = df_polluant_GA2124[[\"date_id\", pollutant]].rename(columns={\"date_id\": \"ds\", pollutant: \"y\"})\n",
    "    \n",
    "    # Creating and training the Prophet:\n",
    "    model_p = Prophet(yearly_seasonality=True, weekly_seasonality=True,daily_seasonality=False)\n",
    "    model_p.fit(df_prophet)\n",
    "    \n",
    "    # Make predictions for the next 14 days\n",
    "    future_p = model_p.make_future_dataframe(periods=14)\n",
    "    forecast_p = model_p.predict(future_p)\n",
    "    \n",
    "    # Saving 14 predictions in the dictionairy:\n",
    "    forecast_prophet[pollutant] = forecast_p[[\"ds\", \"yhat\"]].tail(14)"
   ]
  },
  {
   "cell_type": "code",
   "execution_count": 11,
   "metadata": {},
   "outputs": [
    {
     "name": "stdout",
     "output_type": "stream",
     "text": [
      "Previsões do Prophet para no2:\n",
      "             ds       yhat\n",
      "1470 2025-01-10  67.218477\n",
      "1471 2025-01-11  58.363117\n",
      "1472 2025-01-12  57.700661\n",
      "1473 2025-01-13  64.293735\n",
      "1474 2025-01-14  67.662051\n",
      "\n",
      "--------------------------------------------------\n",
      "\n",
      "Previsões do Prophet para o3:\n",
      "             ds       yhat\n",
      "1470 2025-01-10  41.668214\n",
      "1471 2025-01-11  39.677281\n",
      "1472 2025-01-12  41.385196\n",
      "1473 2025-01-13  39.286713\n",
      "1474 2025-01-14  38.462210\n",
      "\n",
      "--------------------------------------------------\n",
      "\n",
      "Previsões do Prophet para pm10:\n",
      "             ds       yhat\n",
      "1470 2025-01-10  51.259143\n",
      "1471 2025-01-11  38.633856\n",
      "1472 2025-01-12  38.482836\n",
      "1473 2025-01-13  46.117742\n",
      "1474 2025-01-14  53.376587\n",
      "\n",
      "--------------------------------------------------\n",
      "\n",
      "Previsões do Prophet para pm2.5:\n",
      "             ds       yhat\n",
      "1470 2025-01-10  34.712856\n",
      "1471 2025-01-11  34.357324\n",
      "1472 2025-01-12  33.857360\n",
      "1473 2025-01-13  34.225102\n",
      "1474 2025-01-14  35.043696\n",
      "\n",
      "--------------------------------------------------\n",
      "\n",
      "Previsões do Prophet para so2:\n",
      "             ds       yhat\n",
      "1470 2025-01-10  13.660637\n",
      "1471 2025-01-11  17.614069\n",
      "1472 2025-01-12  14.114991\n",
      "1473 2025-01-13  19.218120\n",
      "1474 2025-01-14  15.578649\n",
      "\n",
      "--------------------------------------------------\n",
      "\n"
     ]
    }
   ],
   "source": [
    "# Exibir previsões do Prophet para cada poluente\n",
    "for poluente, previsao in forecast_prophet.items():\n",
    "    print(f\"Previsões do Prophet para {poluente}:\")\n",
    "    print(previsao.tail())  # Mostrar os últimos valores previstos\n",
    "    print(\"\\n\" + \"-\"*50 + \"\\n\")\n"
   ]
  },
  {
   "cell_type": "markdown",
   "metadata": {},
   "source": [
    "#### Conclusion:\n",
    "* Prophet is only able to predict pollution levels from the latest historic temporary date. The model only predicts using seasonality patterns and showed being limited to be used in the WildAir project. "
   ]
  },
  {
   "cell_type": "markdown",
   "metadata": {},
   "source": [
    "## 4. Preparing data for the optimized RandomForestRegressor\n",
    "* The first meteo forecast dataset and the training set merging meteo and pollutants levels between 2021-2024"
   ]
  },
  {
   "cell_type": "code",
   "execution_count": 41,
   "metadata": {},
   "outputs": [
    {
     "data": {
      "text/html": [
       "<div>\n",
       "<style scoped>\n",
       "    .dataframe tbody tr th:only-of-type {\n",
       "        vertical-align: middle;\n",
       "    }\n",
       "\n",
       "    .dataframe tbody tr th {\n",
       "        vertical-align: top;\n",
       "    }\n",
       "\n",
       "    .dataframe thead th {\n",
       "        text-align: right;\n",
       "    }\n",
       "</style>\n",
       "<table border=\"1\" class=\"dataframe\">\n",
       "  <thead>\n",
       "    <tr style=\"text-align: right;\">\n",
       "      <th></th>\n",
       "      <th>date_id</th>\n",
       "      <th>temp_c</th>\n",
       "      <th>humidity_%</th>\n",
       "      <th>rain_mm</th>\n",
       "      <th>snowfall_cm</th>\n",
       "      <th>atmopressure_hpa</th>\n",
       "      <th>cloudcover_%</th>\n",
       "      <th>u10</th>\n",
       "      <th>v10</th>\n",
       "    </tr>\n",
       "  </thead>\n",
       "  <tbody>\n",
       "    <tr>\n",
       "      <th>0</th>\n",
       "      <td>2025-02-14</td>\n",
       "      <td>0.9520</td>\n",
       "      <td>72.00</td>\n",
       "      <td>0.0</td>\n",
       "      <td>0.0</td>\n",
       "      <td>1001.49760</td>\n",
       "      <td>0.000000</td>\n",
       "      <td>2.100005</td>\n",
       "      <td>-1.899998</td>\n",
       "    </tr>\n",
       "    <tr>\n",
       "      <th>1</th>\n",
       "      <td>2025-02-15</td>\n",
       "      <td>1.8145</td>\n",
       "      <td>67.25</td>\n",
       "      <td>0.0</td>\n",
       "      <td>0.0</td>\n",
       "      <td>998.68566</td>\n",
       "      <td>36.958333</td>\n",
       "      <td>0.272833</td>\n",
       "      <td>1.006401</td>\n",
       "    </tr>\n",
       "  </tbody>\n",
       "</table>\n",
       "</div>"
      ],
      "text/plain": [
       "     date_id  temp_c  humidity_%  rain_mm  snowfall_cm  atmopressure_hpa  \\\n",
       "0 2025-02-14  0.9520       72.00      0.0          0.0        1001.49760   \n",
       "1 2025-02-15  1.8145       67.25      0.0          0.0         998.68566   \n",
       "\n",
       "   cloudcover_%       u10       v10  \n",
       "0      0.000000  2.100005 -1.899998  \n",
       "1     36.958333  0.272833  1.006401  "
      ]
     },
     "metadata": {},
     "output_type": "display_data"
    },
    {
     "data": {
      "text/html": [
       "<div>\n",
       "<style scoped>\n",
       "    .dataframe tbody tr th:only-of-type {\n",
       "        vertical-align: middle;\n",
       "    }\n",
       "\n",
       "    .dataframe tbody tr th {\n",
       "        vertical-align: top;\n",
       "    }\n",
       "\n",
       "    .dataframe thead th {\n",
       "        text-align: right;\n",
       "    }\n",
       "</style>\n",
       "<table border=\"1\" class=\"dataframe\">\n",
       "  <thead>\n",
       "    <tr style=\"text-align: right;\">\n",
       "      <th></th>\n",
       "      <th>date_id</th>\n",
       "      <th>no2</th>\n",
       "      <th>o3</th>\n",
       "      <th>pm10</th>\n",
       "      <th>pm2.5</th>\n",
       "      <th>so2</th>\n",
       "    </tr>\n",
       "  </thead>\n",
       "  <tbody>\n",
       "    <tr>\n",
       "      <th>0</th>\n",
       "      <td>2021-01-01</td>\n",
       "      <td>71.0</td>\n",
       "      <td>58.3</td>\n",
       "      <td>24.2</td>\n",
       "      <td>24.2</td>\n",
       "      <td>8.1</td>\n",
       "    </tr>\n",
       "    <tr>\n",
       "      <th>1</th>\n",
       "      <td>2021-01-02</td>\n",
       "      <td>46.0</td>\n",
       "      <td>49.8</td>\n",
       "      <td>23.2</td>\n",
       "      <td>16.4</td>\n",
       "      <td>31.4</td>\n",
       "    </tr>\n",
       "  </tbody>\n",
       "</table>\n",
       "</div>"
      ],
      "text/plain": [
       "     date_id   no2    o3  pm10  pm2.5   so2\n",
       "0 2021-01-01  71.0  58.3  24.2   24.2   8.1\n",
       "1 2021-01-02  46.0  49.8  23.2   16.4  31.4"
      ]
     },
     "metadata": {},
     "output_type": "display_data"
    }
   ],
   "source": [
    "display(df_predict_pm25.head(2))\n",
    "# df_polluant_GA2124.set_index(\"date_id\", inplace=True)\n",
    "display(df_polluant_GA2124.head(2))"
   ]
  },
  {
   "cell_type": "markdown",
   "metadata": {},
   "source": [
    "### 4.1 Getting the training set of data: meteo and pollutants 2021-2024\n",
    "* source: \"P3 wildAir\\p3_WildAir\\Open_Meteo_com\\OpenMeteo_data\\CSV\\CSV_meteopollu_final\\meteopolluwind2124_final.csv\"\n"
   ]
  },
  {
   "cell_type": "code",
   "execution_count": 5,
   "metadata": {},
   "outputs": [],
   "source": [
    "df_metepollu_trainingset = pd.read_csv(r\"C:\\Users\\sophi\\FrMarques\\LyonData WCS new\\P3 wildAir\\p3_WildAir\\Open_Meteo_com\\OpenMeteo_data\\CSV\\CSV_meteopollu_final\\meteopolluwind2124_final.csv\")"
   ]
  },
  {
   "cell_type": "markdown",
   "metadata": {},
   "source": [
    "### 4.2 Deleting unecessary columns and reorganizing the saved ones"
   ]
  },
  {
   "cell_type": "code",
   "execution_count": 6,
   "metadata": {},
   "outputs": [],
   "source": [
    "df_metepollu_trainingset = df_metepollu_trainingset[['date_id', 'month_num', 'temp_c', \\\n",
    "    'humidity_%', 'rain_mm', 'snowfall_cm', 'atmopressure_hpa', 'cloudcover_%', 'u10', 'v10', \\\n",
    "       'NO2', 'O3', 'PM10', 'PM2.5', 'SO2']]"
   ]
  },
  {
   "cell_type": "markdown",
   "metadata": {},
   "source": [
    "### 4.3 Setting \"date_id\" as \"datetime\" dtype index"
   ]
  },
  {
   "cell_type": "code",
   "execution_count": 7,
   "metadata": {},
   "outputs": [],
   "source": [
    "df_metepollu_trainingset = df_metepollu_trainingset.copy()\n",
    "df_metepollu_trainingset[\"date_id\"] = pd.to_datetime(df_metepollu_trainingset[\"date_id\"])\n",
    "df_metepollu_trainingset.set_index(\"date_id\", inplace=True)"
   ]
  },
  {
   "cell_type": "markdown",
   "metadata": {},
   "source": [
    "### 4.4 Renaming the labels all to minuscules"
   ]
  },
  {
   "cell_type": "code",
   "execution_count": 8,
   "metadata": {},
   "outputs": [],
   "source": [
    "df_metepollu_trainingset = df_metepollu_trainingset.rename(columns={\n",
    "    \"NO2\": \"no2\",\n",
    "    \"O3\": \"o3\",\n",
    "    \"PM10\": \"pm10\",\n",
    "    \"PM2.5\": \"pm2.5\",\n",
    "    \"SO2\": \"so2\"\n",
    "    })"
   ]
  },
  {
   "cell_type": "code",
   "execution_count": 30,
   "metadata": {},
   "outputs": [],
   "source": [
    "df_metepollu_trainingset.to_csv(\"df_metepollu_trainingset2124.csv\")"
   ]
  },
  {
   "cell_type": "code",
   "execution_count": 9,
   "metadata": {},
   "outputs": [
    {
     "name": "stdout",
     "output_type": "stream",
     "text": [
      "(1461, 14)\n"
     ]
    },
    {
     "data": {
      "text/html": [
       "<div>\n",
       "<style scoped>\n",
       "    .dataframe tbody tr th:only-of-type {\n",
       "        vertical-align: middle;\n",
       "    }\n",
       "\n",
       "    .dataframe tbody tr th {\n",
       "        vertical-align: top;\n",
       "    }\n",
       "\n",
       "    .dataframe thead th {\n",
       "        text-align: right;\n",
       "    }\n",
       "</style>\n",
       "<table border=\"1\" class=\"dataframe\">\n",
       "  <thead>\n",
       "    <tr style=\"text-align: right;\">\n",
       "      <th></th>\n",
       "      <th>month_num</th>\n",
       "      <th>temp_c</th>\n",
       "      <th>humidity_%</th>\n",
       "      <th>rain_mm</th>\n",
       "      <th>snowfall_cm</th>\n",
       "      <th>atmopressure_hpa</th>\n",
       "      <th>cloudcover_%</th>\n",
       "      <th>u10</th>\n",
       "      <th>v10</th>\n",
       "      <th>no2</th>\n",
       "      <th>o3</th>\n",
       "      <th>pm10</th>\n",
       "      <th>pm2.5</th>\n",
       "      <th>so2</th>\n",
       "    </tr>\n",
       "    <tr>\n",
       "      <th>date_id</th>\n",
       "      <th></th>\n",
       "      <th></th>\n",
       "      <th></th>\n",
       "      <th></th>\n",
       "      <th></th>\n",
       "      <th></th>\n",
       "      <th></th>\n",
       "      <th></th>\n",
       "      <th></th>\n",
       "      <th></th>\n",
       "      <th></th>\n",
       "      <th></th>\n",
       "      <th></th>\n",
       "      <th></th>\n",
       "    </tr>\n",
       "  </thead>\n",
       "  <tbody>\n",
       "    <tr>\n",
       "      <th>2021-01-01</th>\n",
       "      <td>1</td>\n",
       "      <td>2.599667</td>\n",
       "      <td>85.773796</td>\n",
       "      <td>0.075000</td>\n",
       "      <td>0.002917</td>\n",
       "      <td>988.10660</td>\n",
       "      <td>95.291664</td>\n",
       "      <td>1.368064</td>\n",
       "      <td>-3.283859</td>\n",
       "      <td>71.0</td>\n",
       "      <td>58.3</td>\n",
       "      <td>24.2</td>\n",
       "      <td>24.2</td>\n",
       "      <td>8.1</td>\n",
       "    </tr>\n",
       "    <tr>\n",
       "      <th>2021-01-02</th>\n",
       "      <td>1</td>\n",
       "      <td>1.618417</td>\n",
       "      <td>79.047424</td>\n",
       "      <td>0.008333</td>\n",
       "      <td>0.023333</td>\n",
       "      <td>989.22394</td>\n",
       "      <td>95.791664</td>\n",
       "      <td>2.309296</td>\n",
       "      <td>-5.272886</td>\n",
       "      <td>46.0</td>\n",
       "      <td>49.8</td>\n",
       "      <td>23.2</td>\n",
       "      <td>16.4</td>\n",
       "      <td>31.4</td>\n",
       "    </tr>\n",
       "  </tbody>\n",
       "</table>\n",
       "</div>"
      ],
      "text/plain": [
       "            month_num    temp_c  humidity_%   rain_mm  snowfall_cm  \\\n",
       "date_id                                                              \n",
       "2021-01-01          1  2.599667   85.773796  0.075000     0.002917   \n",
       "2021-01-02          1  1.618417   79.047424  0.008333     0.023333   \n",
       "\n",
       "            atmopressure_hpa  cloudcover_%       u10       v10   no2    o3  \\\n",
       "date_id                                                                      \n",
       "2021-01-01         988.10660     95.291664  1.368064 -3.283859  71.0  58.3   \n",
       "2021-01-02         989.22394     95.791664  2.309296 -5.272886  46.0  49.8   \n",
       "\n",
       "            pm10  pm2.5   so2  \n",
       "date_id                        \n",
       "2021-01-01  24.2   24.2   8.1  \n",
       "2021-01-02  23.2   16.4  31.4  "
      ]
     },
     "metadata": {},
     "output_type": "display_data"
    },
    {
     "data": {
      "text/html": [
       "<div>\n",
       "<style scoped>\n",
       "    .dataframe tbody tr th:only-of-type {\n",
       "        vertical-align: middle;\n",
       "    }\n",
       "\n",
       "    .dataframe tbody tr th {\n",
       "        vertical-align: top;\n",
       "    }\n",
       "\n",
       "    .dataframe thead th {\n",
       "        text-align: right;\n",
       "    }\n",
       "</style>\n",
       "<table border=\"1\" class=\"dataframe\">\n",
       "  <thead>\n",
       "    <tr style=\"text-align: right;\">\n",
       "      <th></th>\n",
       "      <th>month_num</th>\n",
       "      <th>temp_c</th>\n",
       "      <th>humidity_%</th>\n",
       "      <th>rain_mm</th>\n",
       "      <th>snowfall_cm</th>\n",
       "      <th>atmopressure_hpa</th>\n",
       "      <th>cloudcover_%</th>\n",
       "      <th>u10</th>\n",
       "      <th>v10</th>\n",
       "      <th>no2</th>\n",
       "      <th>o3</th>\n",
       "      <th>pm10</th>\n",
       "      <th>pm2.5</th>\n",
       "      <th>so2</th>\n",
       "    </tr>\n",
       "    <tr>\n",
       "      <th>date_id</th>\n",
       "      <th></th>\n",
       "      <th></th>\n",
       "      <th></th>\n",
       "      <th></th>\n",
       "      <th></th>\n",
       "      <th></th>\n",
       "      <th></th>\n",
       "      <th></th>\n",
       "      <th></th>\n",
       "      <th></th>\n",
       "      <th></th>\n",
       "      <th></th>\n",
       "      <th></th>\n",
       "      <th></th>\n",
       "    </tr>\n",
       "  </thead>\n",
       "  <tbody>\n",
       "    <tr>\n",
       "      <th>2024-09-08</th>\n",
       "      <td>9</td>\n",
       "      <td>19.108000</td>\n",
       "      <td>79.973946</td>\n",
       "      <td>0.437500</td>\n",
       "      <td>0.0</td>\n",
       "      <td>992.116400</td>\n",
       "      <td>72.791664</td>\n",
       "      <td>0.935445</td>\n",
       "      <td>1.168814</td>\n",
       "      <td>56.6</td>\n",
       "      <td>67.5</td>\n",
       "      <td>18.6</td>\n",
       "      <td>16.1</td>\n",
       "      <td>1.6</td>\n",
       "    </tr>\n",
       "    <tr>\n",
       "      <th>2022-11-21</th>\n",
       "      <td>11</td>\n",
       "      <td>7.560333</td>\n",
       "      <td>87.208333</td>\n",
       "      <td>0.158333</td>\n",
       "      <td>0.0</td>\n",
       "      <td>986.501006</td>\n",
       "      <td>98.000000</td>\n",
       "      <td>0.595681</td>\n",
       "      <td>2.469616</td>\n",
       "      <td>72.9</td>\n",
       "      <td>45.6</td>\n",
       "      <td>37.1</td>\n",
       "      <td>18.9</td>\n",
       "      <td>7.7</td>\n",
       "    </tr>\n",
       "  </tbody>\n",
       "</table>\n",
       "</div>"
      ],
      "text/plain": [
       "            month_num     temp_c  humidity_%   rain_mm  snowfall_cm  \\\n",
       "date_id                                                               \n",
       "2024-09-08          9  19.108000   79.973946  0.437500          0.0   \n",
       "2022-11-21         11   7.560333   87.208333  0.158333          0.0   \n",
       "\n",
       "            atmopressure_hpa  cloudcover_%       u10       v10   no2    o3  \\\n",
       "date_id                                                                      \n",
       "2024-09-08        992.116400     72.791664  0.935445  1.168814  56.6  67.5   \n",
       "2022-11-21        986.501006     98.000000  0.595681  2.469616  72.9  45.6   \n",
       "\n",
       "            pm10  pm2.5  so2  \n",
       "date_id                       \n",
       "2024-09-08  18.6   16.1  1.6  \n",
       "2022-11-21  37.1   18.9  7.7  "
      ]
     },
     "metadata": {},
     "output_type": "display_data"
    },
    {
     "data": {
      "text/html": [
       "<div>\n",
       "<style scoped>\n",
       "    .dataframe tbody tr th:only-of-type {\n",
       "        vertical-align: middle;\n",
       "    }\n",
       "\n",
       "    .dataframe tbody tr th {\n",
       "        vertical-align: top;\n",
       "    }\n",
       "\n",
       "    .dataframe thead th {\n",
       "        text-align: right;\n",
       "    }\n",
       "</style>\n",
       "<table border=\"1\" class=\"dataframe\">\n",
       "  <thead>\n",
       "    <tr style=\"text-align: right;\">\n",
       "      <th></th>\n",
       "      <th>month_num</th>\n",
       "      <th>temp_c</th>\n",
       "      <th>humidity_%</th>\n",
       "      <th>rain_mm</th>\n",
       "      <th>snowfall_cm</th>\n",
       "      <th>atmopressure_hpa</th>\n",
       "      <th>cloudcover_%</th>\n",
       "      <th>u10</th>\n",
       "      <th>v10</th>\n",
       "      <th>no2</th>\n",
       "      <th>o3</th>\n",
       "      <th>pm10</th>\n",
       "      <th>pm2.5</th>\n",
       "      <th>so2</th>\n",
       "    </tr>\n",
       "    <tr>\n",
       "      <th>date_id</th>\n",
       "      <th></th>\n",
       "      <th></th>\n",
       "      <th></th>\n",
       "      <th></th>\n",
       "      <th></th>\n",
       "      <th></th>\n",
       "      <th></th>\n",
       "      <th></th>\n",
       "      <th></th>\n",
       "      <th></th>\n",
       "      <th></th>\n",
       "      <th></th>\n",
       "      <th></th>\n",
       "      <th></th>\n",
       "    </tr>\n",
       "  </thead>\n",
       "  <tbody>\n",
       "    <tr>\n",
       "      <th>2024-12-30</th>\n",
       "      <td>12</td>\n",
       "      <td>-1.24825</td>\n",
       "      <td>94.168620</td>\n",
       "      <td>0.0</td>\n",
       "      <td>0.0</td>\n",
       "      <td>1012.07794</td>\n",
       "      <td>100.000000</td>\n",
       "      <td>0.601134</td>\n",
       "      <td>0.123271</td>\n",
       "      <td>64.9</td>\n",
       "      <td>23.0</td>\n",
       "      <td>40.7</td>\n",
       "      <td>25.6</td>\n",
       "      <td>8.6</td>\n",
       "    </tr>\n",
       "    <tr>\n",
       "      <th>2024-12-31</th>\n",
       "      <td>12</td>\n",
       "      <td>-0.81700</td>\n",
       "      <td>89.934456</td>\n",
       "      <td>0.0</td>\n",
       "      <td>0.0</td>\n",
       "      <td>1011.63837</td>\n",
       "      <td>61.708332</td>\n",
       "      <td>-0.142459</td>\n",
       "      <td>0.503723</td>\n",
       "      <td>70.2</td>\n",
       "      <td>6.6</td>\n",
       "      <td>49.0</td>\n",
       "      <td>38.3</td>\n",
       "      <td>3.3</td>\n",
       "    </tr>\n",
       "  </tbody>\n",
       "</table>\n",
       "</div>"
      ],
      "text/plain": [
       "            month_num   temp_c  humidity_%  rain_mm  snowfall_cm  \\\n",
       "date_id                                                            \n",
       "2024-12-30         12 -1.24825   94.168620      0.0          0.0   \n",
       "2024-12-31         12 -0.81700   89.934456      0.0          0.0   \n",
       "\n",
       "            atmopressure_hpa  cloudcover_%       u10       v10   no2    o3  \\\n",
       "date_id                                                                      \n",
       "2024-12-30        1012.07794    100.000000  0.601134  0.123271  64.9  23.0   \n",
       "2024-12-31        1011.63837     61.708332 -0.142459  0.503723  70.2   6.6   \n",
       "\n",
       "            pm10  pm2.5  so2  \n",
       "date_id                       \n",
       "2024-12-30  40.7   25.6  8.6  \n",
       "2024-12-31  49.0   38.3  3.3  "
      ]
     },
     "metadata": {},
     "output_type": "display_data"
    }
   ],
   "source": [
    "print(df_metepollu_trainingset.shape)\n",
    "display(df_metepollu_trainingset.head(2))\n",
    "display(df_metepollu_trainingset.sample(2))\n",
    "display(df_metepollu_trainingset.tail(2))"
   ]
  },
  {
   "cell_type": "markdown",
   "metadata": {},
   "source": []
  },
  {
   "cell_type": "markdown",
   "metadata": {},
   "source": [
    "## 5. Training and testing the RandomForestRegressor\n",
    "* With a sliding window of 3 days "
   ]
  },
  {
   "cell_type": "markdown",
   "metadata": {},
   "source": [
    "### 5.1 Working code to optimize RFR"
   ]
  },
  {
   "cell_type": "code",
   "execution_count": 1,
   "metadata": {},
   "outputs": [
    {
     "ename": "NameError",
     "evalue": "name 'df_metepollu_trainingset' is not defined",
     "output_type": "error",
     "traceback": [
      "\u001b[1;31m---------------------------------------------------------------------------\u001b[0m",
      "\u001b[1;31mNameError\u001b[0m                                 Traceback (most recent call last)",
      "Cell \u001b[1;32mIn[1], line 1\u001b[0m\n\u001b[1;32m----> 1\u001b[0m df_rfr_train \u001b[38;5;241m=\u001b[39m \u001b[43mdf_metepollu_trainingset\u001b[49m\u001b[38;5;241m.\u001b[39mcopy()  \u001b[38;5;66;03m# using a special \"df\" for ML, saving the original;\u001b[39;00m\n\u001b[0;32m      3\u001b[0m window_size \u001b[38;5;241m=\u001b[39m \u001b[38;5;241m3\u001b[39m         \u001b[38;5;66;03m# setting a \"windo size\" of a 3 days period\u001b[39;00m\n\u001b[0;32m      4\u001b[0m \u001b[38;5;28;01mfor\u001b[39;00m i \u001b[38;5;129;01min\u001b[39;00m \u001b[38;5;28mrange\u001b[39m (\u001b[38;5;241m1\u001b[39m, window_size \u001b[38;5;241m+\u001b[39m \u001b[38;5;241m1\u001b[39m):\n",
      "\u001b[1;31mNameError\u001b[0m: name 'df_metepollu_trainingset' is not defined"
     ]
    }
   ],
   "source": [
    "df_rfr_train = df_metepollu_trainingset.copy()  # using a special \"df\" for ML, saving the original;\n",
    "\n",
    "window_size = 3         # setting a \"windo size\" of a 3 days period\n",
    "for i in range (1, window_size + 1):\n",
    "    for pollutant in [\"no2\", \"o3\", \"pm10\", \"pm2.5\", \"so2\"]:\n",
    "        df_rfr_train[f\"{pollutant}_t-{i}\"] = df_rfr_train[pollutant].shift(i)   # adding new columns with 3 last days pollutant data for each day;\n",
    "\n",
    "df_rfr_train = df_rfr_train.dropna().copy()     # as the 3 first rows/dates got some \"nan\", we drop those 1st lines\n",
    "                                                #.... leaving the train dataframe with less 3 rows;\n",
    "\n",
    "\n",
    "X = df_rfr_train.drop(columns=[\"month_num\", \"no2\", \"o3\", \"pm10\", \"pm2.5\", \"so2\"]) # team features (just meteo);\n",
    "y_dict = {pollutant: df_rfr_train[pollutant] for pollutant in [\"no2\", \"o3\", \"pm10\", \"pm2.5\", \"so2\"]} # team target;\n",
    "\n",
    "X_train, X_test, y_train_dict, y_test_dict = {}, {}, {}, {} # Train_Test_Split\n",
    "\n",
    "for pollutant in y_dict:\n",
    "    X_train[pollutant], X_test[pollutant], y_train_dict[pollutant], y_test_dict[pollutant] = train_test_split(\n",
    "        X, y_dict[pollutant], test_size=0.2, random_state=42\n",
    "    )\n",
    "\n",
    "best_params = {\n",
    "    \"n_estimators\": 100,        # number of decision trees after a gridsearchCV with 50 and 100;\n",
    "    \"max_depth\": 15,            # best max depth from 10 or 20 to feel patterns and avoid overfitting;\n",
    "    \"min_samples_split\": 5,     # best samples_split from 2 or 5 (still not cleared);\n",
    "    \"min_samples_leaf\": 5,     # best samplesleaf from a suggested 5 to improve generalization of results;\n",
    "    \"random_state\": 42          # ensuring the samples stays the same and results to be comparable during tests;\n",
    "}\n",
    "\n",
    "rfr_models = {}                 # Preparing a model for each pollutant;\n",
    "metrics = {}                    # Preparing metrics to evaluatre results on each pollutant;\n",
    "\n",
    "for pollutant in y_train_dict:  # Training the RFR with the best_params for each pollutant;\n",
    "    print(f\"Training RFR for {pollutant}\")\n",
    "    \n",
    "    rfr = RandomForestRegressor(**best_params)\n",
    "    rfr.fit(X_train[pollutant], y_train_dict[pollutant])\n",
    "    \n",
    "    rfr_models[pollutant] = rfr\n",
    "    \n",
    "    y_pred = rfr.predict(X_test[pollutant]) # predicting target (y) from the test X team;\n",
    "    \n",
    "    mae = mean_absolute_error(y_test_dict[pollutant], y_pred)\n",
    "    mse = mean_squared_error(y_test_dict[pollutant], y_pred)\n",
    "    rmse = np.sqrt(mse)\n",
    "    r2 = r2_score(y_test_dict[pollutant], y_pred)\n",
    "    \n",
    "    metrics[pollutant] = {\"MAE\": mae, \"MSE\": mse, \"RMSE\": rmse, \"R2\": r2}\n",
    "\n",
    "print(\"\\n How good is the RFR model: \")\n",
    "for pollutant, values in metrics.items():\n",
    "    print(f\"\\n - predicting {pollutant}\")\n",
    "    for metric, value in values.items():\n",
    "        print(f\"{metric}: {value:.2f}\")"
   ]
  },
  {
   "cell_type": "markdown",
   "metadata": {},
   "source": [
    "#### Conclusions:\n",
    "* Overall, the results are not brilliant but they are terrible for the PM10, as it should be affected by extreme outliers that we can notice in the following \".describe()\": more than 972 µg/m3 as max value;"
   ]
  },
  {
   "cell_type": "code",
   "execution_count": null,
   "metadata": {},
   "outputs": [
    {
     "data": {
      "text/html": [
       "<div>\n",
       "<style scoped>\n",
       "    .dataframe tbody tr th:only-of-type {\n",
       "        vertical-align: middle;\n",
       "    }\n",
       "\n",
       "    .dataframe tbody tr th {\n",
       "        vertical-align: top;\n",
       "    }\n",
       "\n",
       "    .dataframe thead th {\n",
       "        text-align: right;\n",
       "    }\n",
       "</style>\n",
       "<table border=\"1\" class=\"dataframe\">\n",
       "  <thead>\n",
       "    <tr style=\"text-align: right;\">\n",
       "      <th></th>\n",
       "      <th>no2</th>\n",
       "      <th>o3</th>\n",
       "      <th>pm10</th>\n",
       "      <th>pm2.5</th>\n",
       "      <th>so2</th>\n",
       "    </tr>\n",
       "  </thead>\n",
       "  <tbody>\n",
       "    <tr>\n",
       "      <th>count</th>\n",
       "      <td>1461.000000</td>\n",
       "      <td>1461.000000</td>\n",
       "      <td>1461.000000</td>\n",
       "      <td>1461.000000</td>\n",
       "      <td>1461.000000</td>\n",
       "    </tr>\n",
       "    <tr>\n",
       "      <th>mean</th>\n",
       "      <td>81.040999</td>\n",
       "      <td>72.644969</td>\n",
       "      <td>45.523682</td>\n",
       "      <td>21.719986</td>\n",
       "      <td>18.653703</td>\n",
       "    </tr>\n",
       "    <tr>\n",
       "      <th>std</th>\n",
       "      <td>24.201867</td>\n",
       "      <td>28.317610</td>\n",
       "      <td>40.249657</td>\n",
       "      <td>12.981523</td>\n",
       "      <td>29.012151</td>\n",
       "    </tr>\n",
       "    <tr>\n",
       "      <th>min</th>\n",
       "      <td>5.200000</td>\n",
       "      <td>3.300000</td>\n",
       "      <td>11.900000</td>\n",
       "      <td>3.000000</td>\n",
       "      <td>-2.900000</td>\n",
       "    </tr>\n",
       "    <tr>\n",
       "      <th>25%</th>\n",
       "      <td>66.000000</td>\n",
       "      <td>55.300000</td>\n",
       "      <td>28.100000</td>\n",
       "      <td>13.500000</td>\n",
       "      <td>3.000000</td>\n",
       "    </tr>\n",
       "    <tr>\n",
       "      <th>50%</th>\n",
       "      <td>80.700000</td>\n",
       "      <td>73.500000</td>\n",
       "      <td>38.300000</td>\n",
       "      <td>17.700000</td>\n",
       "      <td>7.900000</td>\n",
       "    </tr>\n",
       "    <tr>\n",
       "      <th>75%</th>\n",
       "      <td>95.300000</td>\n",
       "      <td>90.200000</td>\n",
       "      <td>53.600000</td>\n",
       "      <td>25.500000</td>\n",
       "      <td>22.700000</td>\n",
       "    </tr>\n",
       "    <tr>\n",
       "      <th>max</th>\n",
       "      <td>164.400000</td>\n",
       "      <td>184.700000</td>\n",
       "      <td>972.300000</td>\n",
       "      <td>115.100000</td>\n",
       "      <td>283.300000</td>\n",
       "    </tr>\n",
       "  </tbody>\n",
       "</table>\n",
       "</div>"
      ],
      "text/plain": [
       "               no2           o3         pm10        pm2.5          so2\n",
       "count  1461.000000  1461.000000  1461.000000  1461.000000  1461.000000\n",
       "mean     81.040999    72.644969    45.523682    21.719986    18.653703\n",
       "std      24.201867    28.317610    40.249657    12.981523    29.012151\n",
       "min       5.200000     3.300000    11.900000     3.000000    -2.900000\n",
       "25%      66.000000    55.300000    28.100000    13.500000     3.000000\n",
       "50%      80.700000    73.500000    38.300000    17.700000     7.900000\n",
       "75%      95.300000    90.200000    53.600000    25.500000    22.700000\n",
       "max     164.400000   184.700000   972.300000   115.100000   283.300000"
      ]
     },
     "execution_count": 72,
     "metadata": {},
     "output_type": "execute_result"
    }
   ],
   "source": [
    "df_metepollu_trainingset[[\"no2\", \"o3\", \"pm10\", \"pm2.5\", \"so2\"]].describe()"
   ]
  },
  {
   "cell_type": "markdown",
   "metadata": {},
   "source": [
    "### 5.2. Dealing with PM10 ouliers"
   ]
  },
  {
   "cell_type": "markdown",
   "metadata": {},
   "source": [
    "#### 5.2.1. Setting the IQR for \"pm10\" to identify and drop the outliers"
   ]
  },
  {
   "cell_type": "code",
   "execution_count": null,
   "metadata": {},
   "outputs": [
    {
     "name": "stdout",
     "output_type": "stream",
     "text": [
      "Values before outliers cleaning: 1461\n",
      "Values without outliers: 1385\n",
      "We droped '76' outliers\n",
      "count     76.000000\n",
      "mean     141.367105\n",
      "std      129.803762\n",
      "min       92.200000\n",
      "25%       99.100000\n",
      "50%      112.600000\n",
      "75%      132.325000\n",
      "max      972.300000\n",
      "Name: pm10, dtype: float64\n"
     ]
    }
   ],
   "source": [
    "Q1 = df_metepollu_trainingset[\"pm10\"].quantile(0.25)    # Getting the boundaries for outliers by the IQR method;\n",
    "Q3 = df_metepollu_trainingset[\"pm10\"].quantile(0.75)\n",
    "IQR = Q3 - Q1\n",
    "\n",
    "lower_limit = Q1 - 1.5 * IQR    # Getting the upper and lower boundaries and identify outliers\n",
    "upper_limit = Q3 + 1.5 * IQR\n",
    "\n",
    "df_pm10_clean = df_metepollu_trainingset[(df_metepollu_trainingset[\"pm10\"] >= lower_limit) & \n",
    "                                         (df_metepollu_trainingset[\"pm10\"] <= upper_limit)] # droping ouliers;\n",
    "\n",
    "df_outliers = df_metepollu_trainingset[(df_metepollu_trainingset[\"pm10\"] < lower_limit) | \n",
    "                                       (df_metepollu_trainingset[\"pm10\"] > upper_limit)]\n",
    "print(f\"Values before outliers cleaning: {df_metepollu_trainingset.shape[0]}\")\n",
    "print(f\"Values without outliers: {df_pm10_clean.shape[0]}\")     # checking how much data we discarded;\n",
    "print(f\"We droped '{(df_metepollu_trainingset.shape[0]) - (df_pm10_clean.shape[0])}' outliers\")\n",
    "print(df_outliers[\"pm10\"].describe())\n"
   ]
  },
  {
   "cell_type": "markdown",
   "metadata": {},
   "source": [
    "#### 5.2.2. Applying RFR model to the new set of \"pm10\" data"
   ]
  },
  {
   "cell_type": "code",
   "execution_count": null,
   "metadata": {},
   "outputs": [
    {
     "name": "stdout",
     "output_type": "stream",
     "text": [
      "PM10 results after removing outliers and adjusting RFR model:\n",
      "   - MAE: 11.07\n",
      "   - MSE: 190.31\n",
      "   - RMSE: 13.80\n",
      "   - R2: 0.27\n"
     ]
    }
   ],
   "source": [
    "X_pm10_clean = df_pm10_clean.drop(columns=[\"month_num\", \"no2\", \"o3\", \"pm10\", \"pm2.5\", \"so2\"])\n",
    "y_pm10_clean = df_pm10_clean[\"pm10\"]\n",
    "\n",
    "X_train_pm10, X_test_pm10, y_train_pm10, y_test_pm10 = train_test_split(\n",
    "    X_pm10_clean, y_pm10_clean, test_size=0.2, random_state=42\n",
    ")\n",
    "\n",
    "best_params_pm10 = {\n",
    "    \"n_estimators\": 50,\n",
    "    \"max_depth\": 10,\n",
    "    \"min_samples_split\": 2,\n",
    "    \"min_samples_leaf\": 15,  # revising on up the leaf/external nodes samples;\n",
    "    \"random_state\": 42\n",
    "}\n",
    "\n",
    "rfr_pm10 = RandomForestRegressor(**best_params_pm10)\n",
    "rfr_pm10.fit(X_train_pm10, y_train_pm10)\n",
    "\n",
    "y_pred_pm10 = rfr_pm10.predict(X_test_pm10)\n",
    "\n",
    "mae_pm10 = mean_absolute_error(y_test_pm10, y_pred_pm10)\n",
    "mse_pm10 = mean_squared_error(y_test_pm10, y_pred_pm10)\n",
    "rmse_pm10 = np.sqrt(mse_pm10)\n",
    "r2_pm10 = r2_score(y_test_pm10, y_pred_pm10)\n",
    "\n",
    "print(\"PM10 results after removing outliers and adjusting RFR model:\")\n",
    "print(f\"   - MAE: {mae_pm10:.2f}\")\n",
    "print(f\"   - MSE: {mse_pm10:.2f}\")\n",
    "print(f\"   - RMSE: {rmse_pm10:.2f}\")\n",
    "print(f\"   - R2: {r2_pm10:.2f}\")\n"
   ]
  },
  {
   "cell_type": "markdown",
   "metadata": {},
   "source": [
    "#### 5.2.3. Rechecking meteo correlations with the now clean pm10:"
   ]
  },
  {
   "cell_type": "code",
   "execution_count": null,
   "metadata": {},
   "outputs": [
    {
     "data": {
      "image/png": "[encoded data removed]",
      "text/plain": [
       "<Figure size 800x600 with 2 Axes>"
      ]
     },
     "metadata": {},
     "output_type": "display_data"
    }
   ],
   "source": [
    "meteo_columns = [\"temp_c\", \"humidity_%\", \"rain_mm\", \"snowfall_cm\",  #only meteo columns for correlation;\n",
    "                 \"atmopressure_hpa\", \"cloudcover_%\", \"u10\", \"v10\"]\n",
    "\n",
    "corr_matrix_pm10 = df_pm10_clean[meteo_columns + [\"pm10\"]].corr()   # setting the correlation between meteo and pm10;\n",
    "\n",
    "plt.figure(figsize=(8, 6))      # visualizing the correlations;\n",
    "sns.heatmap(corr_matrix_pm10[[\"pm10\"]].sort_values(by=\"pm10\", ascending=False), \n",
    "            annot=True, cmap=\"coolwarm\", fmt=\".2f\")\n",
    "plt.title(\"Correlation between PM10 (without ouliers) with meteo\")\n",
    "plt.show()\n",
    "\n"
   ]
  },
  {
   "cell_type": "markdown",
   "metadata": {},
   "source": [
    "#### 5.2.4. Retesting RFR on pm10 without \"snow\" and \"humidity\" "
   ]
  },
  {
   "cell_type": "code",
   "execution_count": null,
   "metadata": {},
   "outputs": [
    {
     "name": "stdout",
     "output_type": "stream",
     "text": [
      "\n",
      " PM10 results after otimized features:\n",
      "   - MAE: 10.90\n",
      "   - MSE: 186.84\n",
      "   - RMSE: 13.67\n",
      "   - R2: 0.28\n"
     ]
    }
   ],
   "source": [
    "vars_to_keep = [\"temp_c\", \"rain_mm\", \"atmopressure_hpa\", \"cloudcover_%\", \"u10\", \"v10\"]\n",
    "\n",
    "X_pm10_filtered = df_pm10_clean[vars_to_keep]\n",
    "\n",
    "X_train_pm10, X_test_pm10, y_train_pm10, y_test_pm10 = train_test_split(\n",
    "    X_pm10_filtered, y_pm10_clean, test_size=0.2, random_state=42\n",
    ")\n",
    "\n",
    "best_params_pm10 = {\n",
    "    \"n_estimators\": 50,\n",
    "    \"max_depth\": 15,\n",
    "    \"min_samples_split\": 2,\n",
    "    \"min_samples_leaf\": 5,\n",
    "    \"random_state\": 42\n",
    "}\n",
    "\n",
    "rfr_pm10_filtered = RandomForestRegressor(**best_params_pm10)\n",
    "rfr_pm10_filtered.fit(X_train_pm10, y_train_pm10)\n",
    "\n",
    "y_pred_pm10_filtered = rfr_pm10_filtered.predict(X_test_pm10)\n",
    "\n",
    "mae_pm10_filtered = mean_absolute_error(y_test_pm10, y_pred_pm10_filtered)\n",
    "mse_pm10_filtered = mean_squared_error(y_test_pm10, y_pred_pm10_filtered)\n",
    "rmse_pm10_filtered = np.sqrt(mse_pm10_filtered)\n",
    "r2_pm10_filtered = r2_score(y_test_pm10, y_pred_pm10_filtered)\n",
    "\n",
    "print(\"\\n PM10 results after otimized features:\")\n",
    "print(f\"   - MAE: {mae_pm10_filtered:.2f}\")\n",
    "print(f\"   - MSE: {mse_pm10_filtered:.2f}\")\n",
    "print(f\"   - RMSE: {rmse_pm10_filtered:.2f}\")\n",
    "print(f\"   - R2: {r2_pm10_filtered:.2f}\")"
   ]
  },
  {
   "cell_type": "markdown",
   "metadata": {},
   "source": [
    "## 6. Testing GradientBoostingRegressor model\n",
    "* Just to check if it brings significant improvements"
   ]
  },
  {
   "cell_type": "code",
   "execution_count": 96,
   "metadata": {},
   "outputs": [
    {
     "name": "stdout",
     "output_type": "stream",
     "text": [
      "\n",
      " PM10 with Gradient Boosting:\n",
      "   - MAE: 10.98\n",
      "   - MSE: 188.18\n",
      "   - RMSE: 13.72\n",
      "   - R2: 0.28\n"
     ]
    }
   ],
   "source": [
    "gbr_params = {              # GBR special params;\n",
    "    \"n_estimators\": 100,    # number of decising trees; \n",
    "    \"learning_rate\": 0.1,   # how much a tree works fot the results;\n",
    "    \"max_depth\": 5,         # Maximal depth for each tree;\n",
    "    \"min_samples_leaf\": 10, # Minimum samples for each leaf/ end node;\n",
    "    \"random_state\": 42\n",
    "}\n",
    "\n",
    "gbr_pm10 = GradientBoostingRegressor(**gbr_params)\n",
    "gbr_pm10.fit(X_train_pm10, y_train_pm10)\n",
    "\n",
    "y_pred_gbr = gbr_pm10.predict(X_test_pm10)\n",
    "\n",
    "mae_gbr = mean_absolute_error(y_test_pm10, y_pred_gbr)\n",
    "mse_gbr = mean_squared_error(y_test_pm10, y_pred_gbr)\n",
    "rmse_gbr = np.sqrt(mse_gbr)\n",
    "r2_gbr = r2_score(y_test_pm10, y_pred_gbr)\n",
    "\n",
    "print(\"\\n PM10 with Gradient Boosting:\")\n",
    "print(f\"   - MAE: {mae_gbr:.2f}\")\n",
    "print(f\"   - MSE: {mse_gbr:.2f}\")\n",
    "print(f\"   - RMSE: {rmse_gbr:.2f}\")\n",
    "print(f\"   - R2: {r2_gbr:.2f}\")\n"
   ]
  },
  {
   "cell_type": "markdown",
   "metadata": {},
   "source": [
    "* Not a great improvement so we'll stick with the RFR."
   ]
  },
  {
   "cell_type": "markdown",
   "metadata": {},
   "source": [
    "## 7. The final RFR model"
   ]
  },
  {
   "cell_type": "code",
   "execution_count": 10,
   "metadata": {},
   "outputs": [
    {
     "name": "stdout",
     "output_type": "stream",
     "text": [
      "Training RFR for PM10 (cleaned dataset)\n",
      "Training RFR for no2\n",
      "Training RFR for o3\n",
      "Training RFR for pm2.5\n",
      "Training RFR for so2\n",
      "\n",
      " Final RFR model performance:\n",
      "\n",
      "* Predicting pm10:\n",
      "   MAE: 10.36\n",
      "   MSE: 164.53\n",
      "   RMSE: 12.83\n",
      "   R2: 0.30\n",
      "\n",
      "* Predicting no2:\n",
      "   MAE: 14.16\n",
      "   MSE: 328.20\n",
      "   RMSE: 18.12\n",
      "   R2: 0.46\n",
      "\n",
      "* Predicting o3:\n",
      "   MAE: 10.35\n",
      "   MSE: 193.65\n",
      "   RMSE: 13.92\n",
      "   R2: 0.76\n",
      "\n",
      "* Predicting pm2.5:\n",
      "   MAE: 6.11\n",
      "   MSE: 88.98\n",
      "   RMSE: 9.43\n",
      "   R2: 0.47\n",
      "\n",
      "* Predicting so2:\n",
      "   MAE: 12.75\n",
      "   MSE: 555.58\n",
      "   RMSE: 23.57\n",
      "   R2: 0.22\n"
     ]
    }
   ],
   "source": [
    "df_rfr_train_all = df_metepollu_trainingset.drop(columns=[\"pm10\"]).copy()  # Copy of the df to be used in the final RFR model; \n",
    "\n",
    "df_rfr_train_pm10 = df_metepollu_trainingset[df_metepollu_trainingset[\"pm10\"] < 92.2].copy()  # df pm10 without outliers;\n",
    "df_rfr_train_pm10 = df_rfr_train_pm10.drop(columns=[\"no2\", \"o3\", \"pm2.5\", \"so2\"])  # Remove other pollutants;\n",
    "\n",
    "window_size = 3         # setting the sliding window;\n",
    "for i in range(1, window_size + 1):\n",
    "    for pollutant in [\"no2\", \"o3\", \"pm2.5\", \"so2\"]:  # just for \"df ALL\";\n",
    "        df_rfr_train_all[f\"{pollutant}_t-{i}\"] = df_rfr_train_all[pollutant].shift(i)\n",
    "        \n",
    "    df_rfr_train_pm10[f\"pm10_t-{i}\"] = df_rfr_train_pm10[\"pm10\"].shift(i)  # just for \"df pm10\";\n",
    "\n",
    "df_rfr_train_all.dropna(inplace=True)       # remove 3 lines with the \"nan\" generated by the sliding windows;\n",
    "df_rfr_train_pm10.dropna(inplace=True)\n",
    "\n",
    "X_all = df_rfr_train_all.drop(columns=[\"month_num\", \"no2\", \"o3\", \"pm2.5\", \"so2\"])   # set the features;\n",
    "y_dict_all = {pollutant: df_rfr_train_all[pollutant] for pollutant in [\"no2\", \"o3\", \"pm2.5\", \"so2\"]}    # set the targets;\n",
    "\n",
    "X_pm10 = df_rfr_train_pm10.drop(columns=[\"month_num\", \"pm10\",]) # set the features for \"pm10\"\n",
    "y_pm10 = df_rfr_train_pm10[\"pm10\"]                              # set the pm10 as target;\n",
    "\n",
    "X_train, X_test, y_train_dict, y_test_dict = {}, {}, {}, {} # spliting the teams for train and test;\n",
    "for pollutant in y_dict_all:\n",
    "    X_train[pollutant], X_test[pollutant], y_train_dict[pollutant], y_test_dict[pollutant] = train_test_split(\n",
    "        X_all, y_dict_all[pollutant], test_size=0.2, random_state=42\n",
    "    )\n",
    "\n",
    "X_train_pm10, X_test_pm10, y_train_pm10, y_test_pm10 = train_test_split(    # spliting the teams for \"df pm10\";\n",
    "    X_pm10, y_pm10, test_size=0.2, random_state=42\n",
    ")\n",
    "\n",
    "best_params_pm10 = {                # setting the best hyperparameters; \n",
    "    \"n_estimators\": 100,\n",
    "    \"max_depth\": 15,\n",
    "    \"min_samples_split\": 2,\n",
    "    \"min_samples_leaf\": 5,\n",
    "    \"random_state\": 42\n",
    "}\n",
    "\n",
    "best_params_others = {\n",
    "    \"n_estimators\": 100,\n",
    "    \"max_depth\": 10,\n",
    "    \"min_samples_split\": 2,\n",
    "    \"min_samples_leaf\": 10,\n",
    "    \"random_state\": 42\n",
    "}\n",
    "\n",
    "rfr_models = {}                 # Opening dictionaires to receive the trained models\n",
    "metrics = {}\n",
    "\n",
    "print(f\"Training RFR for PM10 (cleaned dataset)\")\n",
    "rfr_pm10 = RandomForestRegressor(**best_params_pm10)    # training the model to learn about pm10;\n",
    "rfr_pm10.fit(X_train_pm10, y_train_pm10)\n",
    "rfr_models[\"pm10\"] = rfr_pm10\n",
    "\n",
    "y_pred_pm10 = rfr_pm10.predict(X_test_pm10)             # testing pm10 predictions; \n",
    "mae_pm10 = mean_absolute_error(y_test_pm10, y_pred_pm10)\n",
    "mse_pm10 = mean_squared_error(y_test_pm10, y_pred_pm10)\n",
    "rmse_pm10 = np.sqrt(mse_pm10)\n",
    "r2_pm10 = r2_score(y_test_pm10, y_pred_pm10)\n",
    "metrics[\"pm10\"] = {\"MAE\": mae_pm10, \"MSE\": mse_pm10, \"RMSE\": rmse_pm10, \"R2\": r2_pm10}\n",
    "\n",
    "for pollutant in y_train_dict:                          # training the model for the other pollutants;\n",
    "    print(f\"Training RFR for {pollutant}\")\n",
    "    \n",
    "    rfr = RandomForestRegressor(**best_params_others)\n",
    "    rfr.fit(X_train[pollutant], y_train_dict[pollutant])\n",
    "    \n",
    "    rfr_models[pollutant] = rfr\n",
    "    \n",
    "    y_pred = rfr.predict(X_test[pollutant])             # Testing predictions for other pollutants;\n",
    "    \n",
    "    mae = mean_absolute_error(y_test_dict[pollutant], y_pred)\n",
    "    mse = mean_squared_error(y_test_dict[pollutant], y_pred)\n",
    "    rmse = np.sqrt(mse)\n",
    "    r2 = r2_score(y_test_dict[pollutant], y_pred)\n",
    "    \n",
    "    metrics[pollutant] = {\"MAE\": mae, \"MSE\": mse, \"RMSE\": rmse, \"R2\": r2}\n",
    "\n",
    "print(\"\\n Final RFR model performance:\")\n",
    "for pollutant, values in metrics.items():\n",
    "    print(f\"\\n* Predicting {pollutant}:\")\n",
    "    for metric, value in values.items():\n",
    "        print(f\"   {metric}: {value:.2f}\")\n"
   ]
  },
  {
   "cell_type": "markdown",
   "metadata": {},
   "source": [
    "## 8. Pollution Prediction Model Function"
   ]
  },
  {
   "cell_type": "code",
   "execution_count": 12,
   "metadata": {},
   "outputs": [],
   "source": [
    "def predict_pollution(forecast_meteo, trained_models):\n",
    "    \"\"\"\n",
    "    Function to forecast pollution levels from meteo forecast data.\n",
    "\n",
    "    Parameters:\n",
    "    - forecast_meteo (DataFrame): DataFrame with meteo forecast.\n",
    "    - trained_models (dict): Dictionary with trained models{pollutant: correspondent RFR model}.\n",
    "\n",
    "    Returns:\n",
    "    - df_predictions (DataFrame): DataFrame with forecast for each pollutant.\n",
    "    \"\"\"\n",
    "    \n",
    "    df_predictions = forecast_meteo[[\"date_id\"]].copy()     # sets a dataframe to save the predictions;\n",
    "\n",
    "    forecast_meteo = forecast_meteo.drop(columns=[\"date_id\"], errors=\"ignore\")  # remove unecessary columns;\n",
    "\n",
    "    for pollutant, model in trained_models.items():     # generates forecasts for each pollutant with\n",
    "        print(f\" Making prediction for {pollutant}...\")   #...  the correspondent model;\n",
    "        df_predictions[f\"{pollutant}_Predicted\"] = model.predict(forecast_meteo)\n",
    "\n",
    "    return df_predictions\n",
    "\n",
    "#  **Example of function use **:\n",
    "# forecast_meteo = pd.read_csv(\"forecast_meteo_14days.csv\")  # Replace by the dataset with meteo forecasts;\n",
    "# df_results = predict_pollution(forecast_meteo, rfr_models)\n",
    "# print(df_results)\n"
   ]
  },
  {
   "cell_type": "markdown",
   "metadata": {},
   "source": [
    "* The function needs a dataframe with meteo forecasts but also requests the ML model which it wasn't suppose;\n",
    "* I'm trying to understand how to have the trained ML model included in the function just to for the user to give it the prepared meteo forecasts as a dataframe and get in return another dataframe with the forecast for each pollutant;"
   ]
  },
  {
   "cell_type": "code",
   "execution_count": 13,
   "metadata": {},
   "outputs": [
    {
     "name": "stdout",
     "output_type": "stream",
     "text": [
      " Training the RFR for no2...\n",
      " Training the RFR for o3...\n",
      " Training the RFR for pm10...\n",
      " Training the RFR for pm2.5...\n",
      " Training the RFR for so2...\n",
      "\n",
      " Evaluating the final model:\n",
      "\n",
      " no2:\n",
      "   -MAE: 14.15\n",
      "   -MSE: 328.02\n",
      "   -RMSE: 18.11\n",
      "   -R2: 0.34\n",
      "\n",
      " o3:\n",
      "   -MAE: 12.35\n",
      "   -MSE: 269.02\n",
      "   -RMSE: 16.40\n",
      "   -R2: 0.68\n",
      "\n",
      " pm10:\n",
      "   -MAE: 16.24\n",
      "   -MSE: 669.24\n",
      "   -RMSE: 25.87\n",
      "   -R2: -0.10\n",
      "\n",
      " pm2.5:\n",
      "   -MAE: 6.60\n",
      "   -MSE: 97.23\n",
      "   -RMSE: 9.86\n",
      "   -R2: 0.47\n",
      "\n",
      " so2:\n",
      "   -MAE: 12.57\n",
      "   -MSE: 487.78\n",
      "   -RMSE: 22.09\n",
      "   -R2: 0.31\n"
     ]
    }
   ],
   "source": [
    "\n",
    "df_train = df_metepollu_trainingset.copy()\n",
    "features = ['temp_c', 'humidity_%', 'rain_mm', 'snowfall_cm',\n",
    "            'atmopressure_hpa', 'cloudcover_%', 'u10', 'v10']\n",
    "\n",
    "pollutants = [\"no2\", \"o3\", \"pm10\", \"pm2.5\", \"so2\"]\n",
    "\n",
    "X = df_train[features]\n",
    "y_dict = {pollutant: df_train[pollutant] for pollutant in pollutants}\n",
    "\n",
    "X_train, X_test, y_train_dict, y_test_dict = {}, {}, {}, {}\n",
    "\n",
    "for pollutant in pollutants:\n",
    "    X_train[pollutant], X_test[pollutant], y_train_dict[pollutant], y_test_dict[pollutant] = train_test_split(\n",
    "        X, y_dict[pollutant], test_size=0.2, random_state=42\n",
    "    )\n",
    "\n",
    "best_params = {\n",
    "    \"n_estimators\": 100,  \n",
    "    \"max_depth\": 15,      \n",
    "    \"min_samples_split\": 2,  \n",
    "    \"min_samples_leaf\": 5,  \n",
    "    \"random_state\": 42  \n",
    "}\n",
    "\n",
    "rfr_models = {}  \n",
    "metrics = {}  \n",
    "\n",
    "for pollutant in pollutants:\n",
    "    print(f\" Training the RFR for {pollutant}...\")\n",
    "\n",
    "    rfr = RandomForestRegressor(**best_params)\n",
    "    rfr.fit(X_train[pollutant], y_train_dict[pollutant])\n",
    "\n",
    "    rfr_models[pollutant] = rfr  \n",
    "\n",
    "    y_pred = rfr.predict(X_test[pollutant])  \n",
    "\n",
    "    mae = mean_absolute_error(y_test_dict[pollutant], y_pred)\n",
    "    mse = mean_squared_error(y_test_dict[pollutant], y_pred)\n",
    "    rmse = np.sqrt(mse)\n",
    "    r2 = r2_score(y_test_dict[pollutant], y_pred)\n",
    "\n",
    "    metrics[pollutant] = {\"MAE\": mae, \"MSE\": mse, \"RMSE\": rmse, \"R2\": r2}\n",
    "\n",
    "print(\"\\n Evaluating the final model:\")\n",
    "\n",
    "for pollutant, values in metrics.items():\n",
    "    print(f\"\\n {pollutant}:\")\n",
    "    for metric, value in values.items():\n",
    "        print(f\"   -{metric}: {value:.2f}\")\n",
    "\n",
    "def predict_pollution(forecast_meteo, trained_models):\n",
    "    \"\"\"\n",
    "    Function to forecast pollution levels from meteo forecasts.\n",
    "\n",
    "    Parameters:\n",
    "    - forecast_meteo (DataFrame): DataFrame with meteo forecasts.\n",
    "    - trained_models (dict): Dictionary with the trained models {pollutant: correspondent model}.\n",
    "\n",
    "    Returns:\n",
    "    - df_predictions (DataFrame): DataFrame with forecasts for each pollutant.\n",
    "    \"\"\"\n",
    "    \n",
    "    df_predictions = forecast_meteo[[\"date_id\"]].copy()\n",
    "\n",
    "    forecast_meteo = forecast_meteo.drop(columns=[\"date_id\"], errors=\"ignore\")\n",
    "\n",
    "    for pollutant, model in trained_models.items():\n",
    "        print(f\" Calculating a forecast for {pollutant}...\")\n",
    "        df_predictions[f\"{pollutant}_Predicted\"] = model.predict(forecast_meteo)\n",
    "\n",
    "    return df_predictions\n",
    "\n",
    "# 🟢 8️⃣ Example of use:\n",
    "# forecast_meteo = pd.read_csv(\"forecast_meteo_14days.csv\")  \n",
    "# df_results = predict_pollution(forecast_meteo, rfr_models)\n",
    "# print(df_results)\n"
   ]
  },
  {
   "cell_type": "markdown",
   "metadata": {},
   "source": [
    "### 8.1 First prediction\n",
    "* "
   ]
  },
  {
   "cell_type": "code",
   "execution_count": 18,
   "metadata": {},
   "outputs": [
    {
     "data": {
      "text/html": [
       "<div>\n",
       "<style scoped>\n",
       "    .dataframe tbody tr th:only-of-type {\n",
       "        vertical-align: middle;\n",
       "    }\n",
       "\n",
       "    .dataframe tbody tr th {\n",
       "        vertical-align: top;\n",
       "    }\n",
       "\n",
       "    .dataframe thead th {\n",
       "        text-align: right;\n",
       "    }\n",
       "</style>\n",
       "<table border=\"1\" class=\"dataframe\">\n",
       "  <thead>\n",
       "    <tr style=\"text-align: right;\">\n",
       "      <th></th>\n",
       "      <th>date_id</th>\n",
       "      <th>temp_c</th>\n",
       "      <th>humidity_%</th>\n",
       "      <th>rain_mm</th>\n",
       "      <th>snowfall_cm</th>\n",
       "      <th>atmopressure_hpa</th>\n",
       "      <th>cloudcover_%</th>\n",
       "      <th>u10</th>\n",
       "      <th>v10</th>\n",
       "    </tr>\n",
       "  </thead>\n",
       "  <tbody>\n",
       "    <tr>\n",
       "      <th>0</th>\n",
       "      <td>2025-02-14</td>\n",
       "      <td>0.952</td>\n",
       "      <td>72.0</td>\n",
       "      <td>0.0</td>\n",
       "      <td>0.0</td>\n",
       "      <td>1001.4976</td>\n",
       "      <td>0.0</td>\n",
       "      <td>2.100005</td>\n",
       "      <td>-1.899998</td>\n",
       "    </tr>\n",
       "  </tbody>\n",
       "</table>\n",
       "</div>"
      ],
      "text/plain": [
       "      date_id  temp_c  humidity_%  rain_mm  snowfall_cm  atmopressure_hpa  \\\n",
       "0  2025-02-14   0.952        72.0      0.0          0.0         1001.4976   \n",
       "\n",
       "   cloudcover_%       u10       v10  \n",
       "0           0.0  2.100005 -1.899998  "
      ]
     },
     "execution_count": 18,
     "metadata": {},
     "output_type": "execute_result"
    }
   ],
   "source": [
    "forecast_meteo = pd.read_csv(r\"C:\\Users\\sophi\\FrMarques\\LyonData WCS new\\P3 wildAir\\p3_WildAir\\Prediction_final_ML\\CSV to predict\\df_meteo_14_28fev2025.csv\")\n",
    "forecast_meteo.head(1)"
   ]
  },
  {
   "cell_type": "code",
   "execution_count": 128,
   "metadata": {},
   "outputs": [
    {
     "data": {
      "text/plain": [
       "Index(['date_id', 'temp_c', 'humidity_%', 'rain_mm', 'snowfall_cm',\n",
       "       'atmopressure_hpa', 'cloudcover_%', 'u10', 'v10'],\n",
       "      dtype='object')"
      ]
     },
     "execution_count": 128,
     "metadata": {},
     "output_type": "execute_result"
    }
   ],
   "source": [
    "forecast_meteo.columns"
   ]
  },
  {
   "cell_type": "code",
   "execution_count": 15,
   "metadata": {},
   "outputs": [],
   "source": [
    "forecast_meteo.set_index('date_id', inplace=True) "
   ]
  },
  {
   "cell_type": "code",
   "execution_count": 21,
   "metadata": {},
   "outputs": [
    {
     "data": {
      "text/html": [
       "<div>\n",
       "<style scoped>\n",
       "    .dataframe tbody tr th:only-of-type {\n",
       "        vertical-align: middle;\n",
       "    }\n",
       "\n",
       "    .dataframe tbody tr th {\n",
       "        vertical-align: top;\n",
       "    }\n",
       "\n",
       "    .dataframe thead th {\n",
       "        text-align: right;\n",
       "    }\n",
       "</style>\n",
       "<table border=\"1\" class=\"dataframe\">\n",
       "  <thead>\n",
       "    <tr style=\"text-align: right;\">\n",
       "      <th></th>\n",
       "      <th>temp_c</th>\n",
       "      <th>humidity_%</th>\n",
       "      <th>rain_mm</th>\n",
       "      <th>snowfall_cm</th>\n",
       "      <th>atmopressure_hpa</th>\n",
       "      <th>cloudcover_%</th>\n",
       "      <th>u10</th>\n",
       "      <th>v10</th>\n",
       "    </tr>\n",
       "    <tr>\n",
       "      <th>date_id</th>\n",
       "      <th></th>\n",
       "      <th></th>\n",
       "      <th></th>\n",
       "      <th></th>\n",
       "      <th></th>\n",
       "      <th></th>\n",
       "      <th></th>\n",
       "      <th></th>\n",
       "    </tr>\n",
       "  </thead>\n",
       "  <tbody>\n",
       "    <tr>\n",
       "      <th>2021-01-01</th>\n",
       "      <td>2.599667</td>\n",
       "      <td>85.773796</td>\n",
       "      <td>0.075</td>\n",
       "      <td>0.002917</td>\n",
       "      <td>988.1066</td>\n",
       "      <td>95.291664</td>\n",
       "      <td>1.368064</td>\n",
       "      <td>-3.283859</td>\n",
       "    </tr>\n",
       "  </tbody>\n",
       "</table>\n",
       "</div>"
      ],
      "text/plain": [
       "              temp_c  humidity_%  rain_mm  snowfall_cm  atmopressure_hpa  \\\n",
       "date_id                                                                    \n",
       "2021-01-01  2.599667   85.773796    0.075     0.002917          988.1066   \n",
       "\n",
       "            cloudcover_%       u10       v10  \n",
       "date_id                                       \n",
       "2021-01-01     95.291664  1.368064 -3.283859  "
      ]
     },
     "execution_count": 21,
     "metadata": {},
     "output_type": "execute_result"
    }
   ],
   "source": [
    "X.head(1)"
   ]
  },
  {
   "cell_type": "code",
   "execution_count": 22,
   "metadata": {},
   "outputs": [
    {
     "data": {
      "text/html": [
       "<div>\n",
       "<style scoped>\n",
       "    .dataframe tbody tr th:only-of-type {\n",
       "        vertical-align: middle;\n",
       "    }\n",
       "\n",
       "    .dataframe tbody tr th {\n",
       "        vertical-align: top;\n",
       "    }\n",
       "\n",
       "    .dataframe thead th {\n",
       "        text-align: right;\n",
       "    }\n",
       "</style>\n",
       "<table border=\"1\" class=\"dataframe\">\n",
       "  <thead>\n",
       "    <tr style=\"text-align: right;\">\n",
       "      <th></th>\n",
       "      <th>date_id</th>\n",
       "      <th>temp_c</th>\n",
       "      <th>humidity_%</th>\n",
       "      <th>rain_mm</th>\n",
       "      <th>snowfall_cm</th>\n",
       "      <th>atmopressure_hpa</th>\n",
       "      <th>cloudcover_%</th>\n",
       "      <th>u10</th>\n",
       "      <th>v10</th>\n",
       "    </tr>\n",
       "  </thead>\n",
       "  <tbody>\n",
       "    <tr>\n",
       "      <th>0</th>\n",
       "      <td>2025-02-14</td>\n",
       "      <td>0.952</td>\n",
       "      <td>72.0</td>\n",
       "      <td>0.0</td>\n",
       "      <td>0.0</td>\n",
       "      <td>1001.4976</td>\n",
       "      <td>0.0</td>\n",
       "      <td>2.100005</td>\n",
       "      <td>-1.899998</td>\n",
       "    </tr>\n",
       "  </tbody>\n",
       "</table>\n",
       "</div>"
      ],
      "text/plain": [
       "      date_id  temp_c  humidity_%  rain_mm  snowfall_cm  atmopressure_hpa  \\\n",
       "0  2025-02-14   0.952        72.0      0.0          0.0         1001.4976   \n",
       "\n",
       "   cloudcover_%       u10       v10  \n",
       "0           0.0  2.100005 -1.899998  "
      ]
     },
     "execution_count": 22,
     "metadata": {},
     "output_type": "execute_result"
    }
   ],
   "source": [
    "forecast_meteo.head(1)"
   ]
  },
  {
   "cell_type": "code",
   "execution_count": 25,
   "metadata": {},
   "outputs": [
    {
     "name": "stdout",
     "output_type": "stream",
     "text": [
      "Nombre de lignes de forecast_meteo: 15\n"
     ]
    }
   ],
   "source": [
    "print(\"Nombre de lignes de forecast_meteo:\", len(forecast_meteo))"
   ]
  },
  {
   "cell_type": "code",
   "execution_count": 28,
   "metadata": {},
   "outputs": [
    {
     "name": "stdout",
     "output_type": "stream",
     "text": [
      " Calculating a forecast for no2...\n",
      " Calculating a forecast for o3...\n",
      " Calculating a forecast for pm10...\n",
      " Calculating a forecast for pm2.5...\n",
      " Calculating a forecast for so2...\n"
     ]
    },
    {
     "data": {
      "text/html": [
       "<div>\n",
       "<style scoped>\n",
       "    .dataframe tbody tr th:only-of-type {\n",
       "        vertical-align: middle;\n",
       "    }\n",
       "\n",
       "    .dataframe tbody tr th {\n",
       "        vertical-align: top;\n",
       "    }\n",
       "\n",
       "    .dataframe thead th {\n",
       "        text-align: right;\n",
       "    }\n",
       "</style>\n",
       "<table border=\"1\" class=\"dataframe\">\n",
       "  <thead>\n",
       "    <tr style=\"text-align: right;\">\n",
       "      <th></th>\n",
       "      <th>date_id</th>\n",
       "      <th>no2_Predicted</th>\n",
       "      <th>o3_Predicted</th>\n",
       "      <th>pm10_Predicted</th>\n",
       "      <th>pm2.5_Predicted</th>\n",
       "      <th>so2_Predicted</th>\n",
       "    </tr>\n",
       "  </thead>\n",
       "  <tbody>\n",
       "    <tr>\n",
       "      <th>5</th>\n",
       "      <td>2025-02-19</td>\n",
       "      <td>95.000464</td>\n",
       "      <td>44.190629</td>\n",
       "      <td>51.657562</td>\n",
       "      <td>34.877245</td>\n",
       "      <td>8.331467</td>\n",
       "    </tr>\n",
       "    <tr>\n",
       "      <th>6</th>\n",
       "      <td>2025-02-20</td>\n",
       "      <td>101.646285</td>\n",
       "      <td>49.150760</td>\n",
       "      <td>56.196301</td>\n",
       "      <td>29.926446</td>\n",
       "      <td>17.826992</td>\n",
       "    </tr>\n",
       "    <tr>\n",
       "      <th>7</th>\n",
       "      <td>2025-02-21</td>\n",
       "      <td>103.868821</td>\n",
       "      <td>69.113916</td>\n",
       "      <td>76.761100</td>\n",
       "      <td>30.041447</td>\n",
       "      <td>3.674798</td>\n",
       "    </tr>\n",
       "    <tr>\n",
       "      <th>8</th>\n",
       "      <td>2025-02-22</td>\n",
       "      <td>111.258981</td>\n",
       "      <td>65.617897</td>\n",
       "      <td>75.621703</td>\n",
       "      <td>29.700538</td>\n",
       "      <td>13.322102</td>\n",
       "    </tr>\n",
       "    <tr>\n",
       "      <th>9</th>\n",
       "      <td>2025-02-23</td>\n",
       "      <td>89.809205</td>\n",
       "      <td>59.503132</td>\n",
       "      <td>56.207997</td>\n",
       "      <td>27.930860</td>\n",
       "      <td>7.518727</td>\n",
       "    </tr>\n",
       "    <tr>\n",
       "      <th>10</th>\n",
       "      <td>2025-02-24</td>\n",
       "      <td>91.882769</td>\n",
       "      <td>51.609482</td>\n",
       "      <td>60.971302</td>\n",
       "      <td>32.852390</td>\n",
       "      <td>8.096644</td>\n",
       "    </tr>\n",
       "    <tr>\n",
       "      <th>11</th>\n",
       "      <td>2025-02-25</td>\n",
       "      <td>86.831281</td>\n",
       "      <td>52.667483</td>\n",
       "      <td>44.223939</td>\n",
       "      <td>22.824311</td>\n",
       "      <td>8.001855</td>\n",
       "    </tr>\n",
       "    <tr>\n",
       "      <th>12</th>\n",
       "      <td>2025-02-26</td>\n",
       "      <td>68.514551</td>\n",
       "      <td>61.993561</td>\n",
       "      <td>34.795363</td>\n",
       "      <td>17.381599</td>\n",
       "      <td>3.463370</td>\n",
       "    </tr>\n",
       "    <tr>\n",
       "      <th>13</th>\n",
       "      <td>2025-02-27</td>\n",
       "      <td>85.988211</td>\n",
       "      <td>63.286780</td>\n",
       "      <td>38.589285</td>\n",
       "      <td>22.621030</td>\n",
       "      <td>6.867621</td>\n",
       "    </tr>\n",
       "    <tr>\n",
       "      <th>14</th>\n",
       "      <td>2025-02-28</td>\n",
       "      <td>73.912147</td>\n",
       "      <td>51.145365</td>\n",
       "      <td>41.483327</td>\n",
       "      <td>20.644867</td>\n",
       "      <td>3.107195</td>\n",
       "    </tr>\n",
       "  </tbody>\n",
       "</table>\n",
       "</div>"
      ],
      "text/plain": [
       "       date_id  no2_Predicted  o3_Predicted  pm10_Predicted  pm2.5_Predicted  \\\n",
       "5   2025-02-19      95.000464     44.190629       51.657562        34.877245   \n",
       "6   2025-02-20     101.646285     49.150760       56.196301        29.926446   \n",
       "7   2025-02-21     103.868821     69.113916       76.761100        30.041447   \n",
       "8   2025-02-22     111.258981     65.617897       75.621703        29.700538   \n",
       "9   2025-02-23      89.809205     59.503132       56.207997        27.930860   \n",
       "10  2025-02-24      91.882769     51.609482       60.971302        32.852390   \n",
       "11  2025-02-25      86.831281     52.667483       44.223939        22.824311   \n",
       "12  2025-02-26      68.514551     61.993561       34.795363        17.381599   \n",
       "13  2025-02-27      85.988211     63.286780       38.589285        22.621030   \n",
       "14  2025-02-28      73.912147     51.145365       41.483327        20.644867   \n",
       "\n",
       "    so2_Predicted  \n",
       "5        8.331467  \n",
       "6       17.826992  \n",
       "7        3.674798  \n",
       "8       13.322102  \n",
       "9        7.518727  \n",
       "10       8.096644  \n",
       "11       8.001855  \n",
       "12       3.463370  \n",
       "13       6.867621  \n",
       "14       3.107195  "
      ]
     },
     "execution_count": 28,
     "metadata": {},
     "output_type": "execute_result"
    }
   ],
   "source": [
    "df_forecast_14_28fev25 = predict_pollution(forecast_meteo, rfr_models)\n",
    "df_forecast_14_28fev25.tail(10)"
   ]
  },
  {
   "cell_type": "code",
   "execution_count": 27,
   "metadata": {},
   "outputs": [
    {
     "data": {
      "text/html": [
       "<div>\n",
       "<style scoped>\n",
       "    .dataframe tbody tr th:only-of-type {\n",
       "        vertical-align: middle;\n",
       "    }\n",
       "\n",
       "    .dataframe tbody tr th {\n",
       "        vertical-align: top;\n",
       "    }\n",
       "\n",
       "    .dataframe thead th {\n",
       "        text-align: right;\n",
       "    }\n",
       "</style>\n",
       "<table border=\"1\" class=\"dataframe\">\n",
       "  <thead>\n",
       "    <tr style=\"text-align: right;\">\n",
       "      <th></th>\n",
       "      <th>no2</th>\n",
       "      <th>o3</th>\n",
       "      <th>pm10</th>\n",
       "      <th>pm2.5</th>\n",
       "      <th>so2</th>\n",
       "    </tr>\n",
       "    <tr>\n",
       "      <th>date_id</th>\n",
       "      <th></th>\n",
       "      <th></th>\n",
       "      <th></th>\n",
       "      <th></th>\n",
       "      <th></th>\n",
       "    </tr>\n",
       "  </thead>\n",
       "  <tbody>\n",
       "    <tr>\n",
       "      <th>2024-12-22</th>\n",
       "      <td>62.5</td>\n",
       "      <td>76.2</td>\n",
       "      <td>18.9</td>\n",
       "      <td>11.5</td>\n",
       "      <td>5.9</td>\n",
       "    </tr>\n",
       "    <tr>\n",
       "      <th>2024-12-23</th>\n",
       "      <td>62.8</td>\n",
       "      <td>61.6</td>\n",
       "      <td>24.0</td>\n",
       "      <td>8.6</td>\n",
       "      <td>14.3</td>\n",
       "    </tr>\n",
       "    <tr>\n",
       "      <th>2024-12-24</th>\n",
       "      <td>68.2</td>\n",
       "      <td>60.4</td>\n",
       "      <td>29.7</td>\n",
       "      <td>16.2</td>\n",
       "      <td>16.2</td>\n",
       "    </tr>\n",
       "    <tr>\n",
       "      <th>2024-12-25</th>\n",
       "      <td>75.9</td>\n",
       "      <td>50.6</td>\n",
       "      <td>48.4</td>\n",
       "      <td>41.6</td>\n",
       "      <td>2.9</td>\n",
       "    </tr>\n",
       "    <tr>\n",
       "      <th>2024-12-26</th>\n",
       "      <td>96.5</td>\n",
       "      <td>14.9</td>\n",
       "      <td>55.7</td>\n",
       "      <td>40.3</td>\n",
       "      <td>3.9</td>\n",
       "    </tr>\n",
       "    <tr>\n",
       "      <th>2024-12-27</th>\n",
       "      <td>81.1</td>\n",
       "      <td>4.1</td>\n",
       "      <td>80.5</td>\n",
       "      <td>70.6</td>\n",
       "      <td>97.4</td>\n",
       "    </tr>\n",
       "    <tr>\n",
       "      <th>2024-12-28</th>\n",
       "      <td>75.0</td>\n",
       "      <td>5.7</td>\n",
       "      <td>71.2</td>\n",
       "      <td>55.6</td>\n",
       "      <td>235.0</td>\n",
       "    </tr>\n",
       "    <tr>\n",
       "      <th>2024-12-29</th>\n",
       "      <td>56.5</td>\n",
       "      <td>20.4</td>\n",
       "      <td>43.7</td>\n",
       "      <td>33.5</td>\n",
       "      <td>31.4</td>\n",
       "    </tr>\n",
       "    <tr>\n",
       "      <th>2024-12-30</th>\n",
       "      <td>64.9</td>\n",
       "      <td>23.0</td>\n",
       "      <td>40.7</td>\n",
       "      <td>25.6</td>\n",
       "      <td>8.6</td>\n",
       "    </tr>\n",
       "    <tr>\n",
       "      <th>2024-12-31</th>\n",
       "      <td>70.2</td>\n",
       "      <td>6.6</td>\n",
       "      <td>49.0</td>\n",
       "      <td>38.3</td>\n",
       "      <td>3.3</td>\n",
       "    </tr>\n",
       "  </tbody>\n",
       "</table>\n",
       "</div>"
      ],
      "text/plain": [
       "             no2    o3  pm10  pm2.5    so2\n",
       "date_id                                   \n",
       "2024-12-22  62.5  76.2  18.9   11.5    5.9\n",
       "2024-12-23  62.8  61.6  24.0    8.6   14.3\n",
       "2024-12-24  68.2  60.4  29.7   16.2   16.2\n",
       "2024-12-25  75.9  50.6  48.4   41.6    2.9\n",
       "2024-12-26  96.5  14.9  55.7   40.3    3.9\n",
       "2024-12-27  81.1   4.1  80.5   70.6   97.4\n",
       "2024-12-28  75.0   5.7  71.2   55.6  235.0\n",
       "2024-12-29  56.5  20.4  43.7   33.5   31.4\n",
       "2024-12-30  64.9  23.0  40.7   25.6    8.6\n",
       "2024-12-31  70.2   6.6  49.0   38.3    3.3"
      ]
     },
     "execution_count": 27,
     "metadata": {},
     "output_type": "execute_result"
    }
   ],
   "source": [
    "df_metepollu_trainingset[[\"no2\", \"o3\", \"pm10\", \"pm2.5\", \"so2\"]].tail(10)"
   ]
  },
  {
   "cell_type": "code",
   "execution_count": 29,
   "metadata": {},
   "outputs": [
    {
     "data": {
      "text/html": [
       "<div>\n",
       "<style scoped>\n",
       "    .dataframe tbody tr th:only-of-type {\n",
       "        vertical-align: middle;\n",
       "    }\n",
       "\n",
       "    .dataframe tbody tr th {\n",
       "        vertical-align: top;\n",
       "    }\n",
       "\n",
       "    .dataframe thead th {\n",
       "        text-align: right;\n",
       "    }\n",
       "</style>\n",
       "<table border=\"1\" class=\"dataframe\">\n",
       "  <thead>\n",
       "    <tr style=\"text-align: right;\">\n",
       "      <th></th>\n",
       "      <th>no2</th>\n",
       "      <th>o3</th>\n",
       "      <th>pm10</th>\n",
       "      <th>pm2.5</th>\n",
       "      <th>so2</th>\n",
       "    </tr>\n",
       "  </thead>\n",
       "  <tbody>\n",
       "    <tr>\n",
       "      <th>count</th>\n",
       "      <td>1461.000000</td>\n",
       "      <td>1461.000000</td>\n",
       "      <td>1461.000000</td>\n",
       "      <td>1461.000000</td>\n",
       "      <td>1461.000000</td>\n",
       "    </tr>\n",
       "    <tr>\n",
       "      <th>mean</th>\n",
       "      <td>81.040999</td>\n",
       "      <td>72.644969</td>\n",
       "      <td>45.523682</td>\n",
       "      <td>21.719986</td>\n",
       "      <td>18.653703</td>\n",
       "    </tr>\n",
       "    <tr>\n",
       "      <th>std</th>\n",
       "      <td>24.201867</td>\n",
       "      <td>28.317610</td>\n",
       "      <td>40.249657</td>\n",
       "      <td>12.981523</td>\n",
       "      <td>29.012151</td>\n",
       "    </tr>\n",
       "    <tr>\n",
       "      <th>min</th>\n",
       "      <td>5.200000</td>\n",
       "      <td>3.300000</td>\n",
       "      <td>11.900000</td>\n",
       "      <td>3.000000</td>\n",
       "      <td>-2.900000</td>\n",
       "    </tr>\n",
       "    <tr>\n",
       "      <th>25%</th>\n",
       "      <td>66.000000</td>\n",
       "      <td>55.300000</td>\n",
       "      <td>28.100000</td>\n",
       "      <td>13.500000</td>\n",
       "      <td>3.000000</td>\n",
       "    </tr>\n",
       "    <tr>\n",
       "      <th>50%</th>\n",
       "      <td>80.700000</td>\n",
       "      <td>73.500000</td>\n",
       "      <td>38.300000</td>\n",
       "      <td>17.700000</td>\n",
       "      <td>7.900000</td>\n",
       "    </tr>\n",
       "    <tr>\n",
       "      <th>75%</th>\n",
       "      <td>95.300000</td>\n",
       "      <td>90.200000</td>\n",
       "      <td>53.600000</td>\n",
       "      <td>25.500000</td>\n",
       "      <td>22.700000</td>\n",
       "    </tr>\n",
       "    <tr>\n",
       "      <th>max</th>\n",
       "      <td>164.400000</td>\n",
       "      <td>184.700000</td>\n",
       "      <td>972.300000</td>\n",
       "      <td>115.100000</td>\n",
       "      <td>283.300000</td>\n",
       "    </tr>\n",
       "  </tbody>\n",
       "</table>\n",
       "</div>"
      ],
      "text/plain": [
       "               no2           o3         pm10        pm2.5          so2\n",
       "count  1461.000000  1461.000000  1461.000000  1461.000000  1461.000000\n",
       "mean     81.040999    72.644969    45.523682    21.719986    18.653703\n",
       "std      24.201867    28.317610    40.249657    12.981523    29.012151\n",
       "min       5.200000     3.300000    11.900000     3.000000    -2.900000\n",
       "25%      66.000000    55.300000    28.100000    13.500000     3.000000\n",
       "50%      80.700000    73.500000    38.300000    17.700000     7.900000\n",
       "75%      95.300000    90.200000    53.600000    25.500000    22.700000\n",
       "max     164.400000   184.700000   972.300000   115.100000   283.300000"
      ]
     },
     "execution_count": 29,
     "metadata": {},
     "output_type": "execute_result"
    }
   ],
   "source": [
    "df_metepollu_trainingset[[\"no2\", \"o3\", \"pm10\", \"pm2.5\", \"so2\"]].describe()"
   ]
  },
  {
   "cell_type": "code",
   "execution_count": 32,
   "metadata": {},
   "outputs": [
    {
     "data": {
      "image/png": "[encoded data removed]",
      "text/plain": [
       "<Figure size 1200x600 with 1 Axes>"
      ]
     },
     "metadata": {},
     "output_type": "display_data"
    }
   ],
   "source": [
    "import matplotlib.pyplot as plt\n",
    "\n",
    "pollutants = [\"no2\", \"o3\", \"pm10\", \"pm2.5\", \"so2\"]\n",
    "\n",
    "plt.figure(figsize=(12, 6))\n",
    "plt.boxplot([df_metepollu_trainingset[pollutant].dropna() for pollutant in pollutants], tick_labels=pollutants)\n",
    "\n",
    "plt.title(\"Distribution Levels for each pollutants\")\n",
    "plt.ylabel(\"Concentration\")\n",
    "plt.xlabel(\"Pollutants\")\n",
    "plt.show()\n"
   ]
  },
  {
   "cell_type": "markdown",
   "metadata": {},
   "source": [
    "## 9. The RFR done by Alex"
   ]
  },
  {
   "cell_type": "code",
   "execution_count": null,
   "metadata": {},
   "outputs": [
    {
     "name": "stdout",
     "output_type": "stream",
     "text": [
      "Fitting 3 folds for each of 108 candidates, totalling 324 fits\n",
      "\n",
      " Performance by optimized model for PM2.5:\n",
      "    - MAE: 6.046\n",
      "    - RMSE: 8.001\n",
      "    - R²: 0.602\n",
      " Best hyperparameters: {'max_depth': 10, 'min_samples_leaf': 4, 'min_samples_split': 2, 'n_estimators': 300}\n"
     ]
    }
   ],
   "source": [
    "\n",
    "df = pd.read_csv(r\"C:\\Users\\sophi\\FrMarques\\LyonData WCS new\\P3 wildAir\\p3_WildAir\\Open_Meteo_com\\OpenMeteo_data\\CSV\\df_meteopolluwind2124.csv\")  # Certifica-te de que o ficheiro está no diretório correto\n",
    "\n",
    "df['winddir_sin'] = np.sin(np.radians(df['winddirection_360']))\n",
    "df['winddir_cos'] = np.cos(np.radians(df['winddirection_360']))\n",
    "df.drop(columns=['winddirection_360'], inplace=True)\n",
    "\n",
    "df['PM2.5_lag1'] = df['PM2.5'].shift(1)\n",
    "df['PM2.5_lag2'] = df['PM2.5'].shift(2)\n",
    "\n",
    "df.dropna(inplace=True)\n",
    "\n",
    "features = ['temp_c', 'humidity_%', 'rain_mm', 'atmopressure_hpa', 'cloudcover_%',\n",
    "            'windspeed_kmh', 'winddir_sin', 'winddir_cos', 'u10', 'O3', 'PM2.5_lag1', 'PM2.5_lag2']\n",
    "target = 'PM2.5'\n",
    "\n",
    "X = df[features]\n",
    "y = df[target]\n",
    "\n",
    "X_train, X_test, y_train, y_test = train_test_split(X, y, test_size=0.2, random_state=42)\n",
    "\n",
    "rf = RandomForestRegressor(random_state=42)\n",
    "\n",
    "param_grid = {\n",
    "    'n_estimators': [100, 200, 300],\n",
    "    'max_depth': [None, 10, 20, 30],\n",
    "    'min_samples_split': [2, 5, 10],\n",
    "    'min_samples_leaf': [1, 2, 4]\n",
    "}\n",
    "\n",
    "\n",
    "grid_search = GridSearchCV(\n",
    "    estimator=rf, param_grid=param_grid, cv=3, n_jobs=-1, \n",
    "    verbose=2, scoring='neg_mean_squared_error'\n",
    ")\n",
    "grid_search.fit(X_train, y_train)\n",
    "\n",
    "best_model = grid_search.best_estimator_\n",
    "\n",
    "y_pred = best_model.predict(X_test)\n",
    "\n",
    "mae = mean_absolute_error(y_test, y_pred)\n",
    "rmse = np.sqrt(mean_squared_error(y_test, y_pred))\n",
    "r2 = r2_score(y_test, y_pred)\n",
    "\n",
    "print(\"\\n Performance by optimized model for PM2.5:\")\n",
    "print(f\"    - MAE: {mae:.3f}\")\n",
    "print(f\"    - RMSE: {rmse:.3f}\")\n",
    "print(f\"    - R²: {r2:.3f}\")\n",
    "print(f\" Best hyperparameters: {grid_search.best_params_}\")\n"
   ]
  },
  {
   "cell_type": "code",
   "execution_count": 101,
   "metadata": {},
   "outputs": [],
   "source": [
    "df['date_id'] = pd.to_datetime(df['date_id'])"
   ]
  },
  {
   "cell_type": "code",
   "execution_count": 100,
   "metadata": {},
   "outputs": [
    {
     "data": {
      "text/plain": [
       "Index(['Unnamed: 0', 'date_id', 'month_num', 'temp_c', 'humidity_%', 'rain_mm',\n",
       "       'snowfall_cm', 'atmopressure_hpa', 'cloudcover_%', 'windspeed_kmh',\n",
       "       'NO2', 'O3', 'PM10', 'PM2.5', 'SO2', 'windspeed_ms', 'u10', 'v10',\n",
       "       'winddir_sin', 'winddir_cos', 'PM2.5_lag1', 'PM2.5_lag2'],\n",
       "      dtype='object')"
      ]
     },
     "execution_count": 100,
     "metadata": {},
     "output_type": "execute_result"
    }
   ],
   "source": [
    "df.columns"
   ]
  },
  {
   "cell_type": "code",
   "execution_count": 104,
   "metadata": {},
   "outputs": [
    {
     "data": {
      "image/png": "[encoded data removed]",
      "text/plain": [
       "<Figure size 858.75x500 with 1 Axes>"
      ]
     },
     "metadata": {},
     "output_type": "display_data"
    }
   ],
   "source": [
    "df[\"season\"] = df[\"date_id\"].dt.month.map({12: \"Winter\", 1: \"Winter\", 2: \"Winter\",\n",
    "                                        3: \"Spring\", 4: \"Spring\", 5: \"Spring\",\n",
    "                                        6: \"Summer\", 7: \"Summer\", 8: \"Summer\",\n",
    "                                        9: \"Autumn\", 10: \"Autumn\", 11: \"Autumn\"})\n",
    "\n",
    "sns.lmplot(data=df, x=\"O3\", y=\"PM2.5\", hue=\"season\", aspect=1.5)\n",
    "plt.title(\"Links between O3 e PM2.5 by season\")\n",
    "plt.show()\n"
   ]
  }
 ],
 "metadata": {
  "kernelspec": {
   "display_name": "Python 3",
   "language": "python",
   "name": "python3"
  },
  "language_info": {
   "codemirror_mode": {
    "name": "ipython",
    "version": 3
   },
   "file_extension": ".py",
   "mimetype": "text/x-python",
   "name": "python",
   "nbconvert_exporter": "python",
   "pygments_lexer": "ipython3",
   "version": "3.12.9"
  }
 },
 "nbformat": 4,
 "nbformat_minor": 2
}
