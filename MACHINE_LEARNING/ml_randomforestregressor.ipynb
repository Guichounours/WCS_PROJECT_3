{
 "cells": [
  {
   "cell_type": "markdown",
   "metadata": {},
   "source": [
    "# Machine Learning: Random Forest Regressor predictions\n",
    "* The RFR seems to be the best prediction model: "
   ]
  },
  {
   "cell_type": "code",
   "execution_count": null,
   "metadata": {},
   "outputs": [],
   "source": [
    "##### LIBRARIES IN USE #########\n",
    "import pandas as pd\n",
    "import numpy as np\n",
    "\n",
    "##### DataViz ##########\n",
    "import matplotlib.pyplot as plt\n",
    "import seaborn as sns\n",
    "\n",
    "####### Machine Learning ##########\n",
    "from sklearn.model_selection import train_test_split\n",
    "from sklearn.ensemble import RandomForestRegressor\n",
    "from sklearn.metrics import mean_absolute_error, mean_squared_error, r2_score\n",
    "from sklearn.metrics import root_mean_squared_error\n",
    "from sklearn.model_selection import GridSearchCV\n",
    "from prophet import Prophet\n"
   ]
  },
  {
   "cell_type": "markdown",
   "metadata": {},
   "source": [
    "## 1. Preparing the data for the RFR"
   ]
  },
  {
   "cell_type": "code",
   "execution_count": 4,
   "metadata": {},
   "outputs": [],
   "source": [
    "rfr_pm25meteo = pd.read_csv(r\"C:\\Users\\sophi\\FrMarques\\LyonData WCS new\\P3 wildAir\\p3_WildAir\\Open_Meteo_com\\OpenMeteo_data\\CSV\\CSV_meteopollu_final\\meteopolluwind2124_final.csv\")"
   ]
  },
  {
   "cell_type": "code",
   "execution_count": null,
   "metadata": {},
   "outputs": [],
   "source": [
    "rfr_pm25meteo = rfr_pm25meteo.drop(columns=\"Unnamed: 0\")\n",
    "############## Setting \"Date\" as the index of the dataset if it is not:\n",
    "rfr_pm25meteo.set_index('date_id', inplace=True)\n",
    "\n",
    "# Setting the index (\"Date\") as \"datetime\" dtype:\n",
    "rfr_pm25meteo.index = pd.to_datetime(rfr_pm25meteo.index)\n",
    "\n",
    "rfr_pm25meteo = rfr_pm25meteo[['temp_c', 'humidity_%', 'rain_mm', 'snowfall_cm',\n",
    "       'atmopressure_hpa', 'cloudcover_%', 'u10',\n",
    "       'v10', 'PM2.5']]"
   ]
  },
  {
   "cell_type": "code",
   "execution_count": 25,
   "metadata": {},
   "outputs": [
    {
     "data": {
      "text/html": [
       "<div>\n",
       "<style scoped>\n",
       "    .dataframe tbody tr th:only-of-type {\n",
       "        vertical-align: middle;\n",
       "    }\n",
       "\n",
       "    .dataframe tbody tr th {\n",
       "        vertical-align: top;\n",
       "    }\n",
       "\n",
       "    .dataframe thead th {\n",
       "        text-align: right;\n",
       "    }\n",
       "</style>\n",
       "<table border=\"1\" class=\"dataframe\">\n",
       "  <thead>\n",
       "    <tr style=\"text-align: right;\">\n",
       "      <th></th>\n",
       "      <th>date_id</th>\n",
       "      <th>temp_c</th>\n",
       "      <th>humidity_%</th>\n",
       "      <th>rain_mm</th>\n",
       "      <th>snowfall_cm</th>\n",
       "      <th>atmopressure_hpa</th>\n",
       "      <th>cloudcover_%</th>\n",
       "      <th>u10</th>\n",
       "      <th>v10</th>\n",
       "      <th>PM2.5</th>\n",
       "      <th>PM2.5_t-1</th>\n",
       "      <th>PM2.5_t-2</th>\n",
       "      <th>PM2.5_t-3</th>\n",
       "    </tr>\n",
       "  </thead>\n",
       "  <tbody>\n",
       "    <tr>\n",
       "      <th>0</th>\n",
       "      <td>2021-01-01</td>\n",
       "      <td>2.599667</td>\n",
       "      <td>85.773796</td>\n",
       "      <td>0.075000</td>\n",
       "      <td>0.002917</td>\n",
       "      <td>988.10660</td>\n",
       "      <td>95.291664</td>\n",
       "      <td>1.368064</td>\n",
       "      <td>-3.283859</td>\n",
       "      <td>24.2</td>\n",
       "      <td>NaN</td>\n",
       "      <td>NaN</td>\n",
       "      <td>NaN</td>\n",
       "    </tr>\n",
       "    <tr>\n",
       "      <th>1</th>\n",
       "      <td>2021-01-02</td>\n",
       "      <td>1.618417</td>\n",
       "      <td>79.047424</td>\n",
       "      <td>0.008333</td>\n",
       "      <td>0.023333</td>\n",
       "      <td>989.22394</td>\n",
       "      <td>95.791664</td>\n",
       "      <td>2.309296</td>\n",
       "      <td>-5.272886</td>\n",
       "      <td>16.4</td>\n",
       "      <td>24.2</td>\n",
       "      <td>NaN</td>\n",
       "      <td>NaN</td>\n",
       "    </tr>\n",
       "    <tr>\n",
       "      <th>2</th>\n",
       "      <td>2021-01-03</td>\n",
       "      <td>1.016333</td>\n",
       "      <td>78.578060</td>\n",
       "      <td>0.000000</td>\n",
       "      <td>0.017500</td>\n",
       "      <td>991.02985</td>\n",
       "      <td>86.666664</td>\n",
       "      <td>2.735477</td>\n",
       "      <td>-1.686846</td>\n",
       "      <td>55.9</td>\n",
       "      <td>16.4</td>\n",
       "      <td>24.2</td>\n",
       "      <td>NaN</td>\n",
       "    </tr>\n",
       "  </tbody>\n",
       "</table>\n",
       "</div>"
      ],
      "text/plain": [
       "     date_id    temp_c  humidity_%   rain_mm  snowfall_cm  atmopressure_hpa  \\\n",
       "0 2021-01-01  2.599667   85.773796  0.075000     0.002917         988.10660   \n",
       "1 2021-01-02  1.618417   79.047424  0.008333     0.023333         989.22394   \n",
       "2 2021-01-03  1.016333   78.578060  0.000000     0.017500         991.02985   \n",
       "\n",
       "   cloudcover_%       u10       v10  PM2.5  PM2.5_t-1  PM2.5_t-2  PM2.5_t-3  \n",
       "0     95.291664  1.368064 -3.283859   24.2        NaN        NaN        NaN  \n",
       "1     95.791664  2.309296 -5.272886   16.4       24.2        NaN        NaN  \n",
       "2     86.666664  2.735477 -1.686846   55.9       16.4       24.2        NaN  "
      ]
     },
     "execution_count": 25,
     "metadata": {},
     "output_type": "execute_result"
    }
   ],
   "source": [
    "rfr_pm25meteo.head(3)"
   ]
  },
  {
   "cell_type": "markdown",
   "metadata": {},
   "source": [
    "## 2. Random forest Regressor (RFR)"
   ]
  },
  {
   "cell_type": "code",
   "execution_count": 12,
   "metadata": {},
   "outputs": [],
   "source": [
    "rfr_pm25meteo = rfr_pm25meteo.reset_index()"
   ]
  },
  {
   "cell_type": "markdown",
   "metadata": {},
   "source": [
    "### 2.1 Setting the RFR with a window slide of 3 days"
   ]
  },
  {
   "cell_type": "code",
   "execution_count": 18,
   "metadata": {},
   "outputs": [
    {
     "data": {
      "text/plain": [
       "((1166, 11), (292, 11), (1166,), (292,))"
      ]
     },
     "execution_count": 18,
     "metadata": {},
     "output_type": "execute_result"
    }
   ],
   "source": [
    "#### Setting a sliding window of 3 days:\n",
    "window_size = 3\n",
    "\n",
    "for i in range(1, window_size + 1):             # loop starting by 1 to create the columns for each window (+1 sets the limit not included of 4) = 1 to 3;\n",
    "    rfr_pm25meteo[f\"PM2.5_t-{i}\"] = rfr_pm25meteo[\"PM2.5\"].shift(i)   # the t- window slide dynamic (f) creation where the \"i\" changes in each loop;\n",
    "\n",
    "df_sliding = rfr_pm25meteo.dropna().copy()                 # Removing the first lines with \"NaN\" created by  the shift;\n",
    "\n",
    "X_sliding = df_sliding.drop(columns=[\"date_id\", \"PM2.5\"])    # Defining the X with the useful features;\n",
    "y_sliding = df_sliding[\"PM2.5\"]                              # Defining the target;\n",
    "\n",
    "split_index = int(len(X_sliding) * 0.8)                      # Defining the teams \"Train\"/\"Test\" in a proportion 80/20, keeping\n",
    "X_train_s, X_test_s = X_sliding.iloc[:split_index], X_sliding.iloc[split_index:]    #... the data cronology, which will\n",
    "y_train_s, y_test_s = y_sliding.iloc[:split_index], y_sliding.iloc[split_index:]    #... be decisive here;\n",
    "\n",
    "# X_train_s, X_test_s, y_train_s, y_test_s = train_test_split(        # A more traditional way for split_train_test but;\n",
    "#     X_sliding, y_sliding, test_size=0.2, shuffle=False, random_state=42   #... imposing no shuffle of data to keep vjronology;\n",
    "#     )\n",
    "\n",
    "\n",
    "X_train_s.shape, X_test_s.shape, y_train_s.shape, y_test_s.shape        # checking the size of each of the 4 teams created;\n"
   ]
  },
  {
   "cell_type": "markdown",
   "metadata": {},
   "source": [
    "### 2.2 Grid Search Cross Validation \n",
    "* Tunning the model to get the best params:"
   ]
  },
  {
   "cell_type": "code",
   "execution_count": null,
   "metadata": {},
   "outputs": [
    {
     "name": "stderr",
     "output_type": "stream",
     "text": [
      "C:\\Users\\sophi\\AppData\\Local\\Packages\\PythonSoftwareFoundation.Python.3.12_qbz5n2kfra8p0\\LocalCache\\local-packages\\Python312\\site-packages\\numpy\\ma\\core.py:2892: RuntimeWarning: invalid value encountered in cast\n",
      "  _data = np.array(data, dtype=dtype, copy=copy,\n"
     ]
    },
    {
     "name": "stdout",
     "output_type": "stream",
     "text": [
      "Best hyperparameters: {'max_depth': 10, 'min_samples_leaf': 5, 'min_samples_split': 2, 'n_estimators': 100}\n",
      "MAE: 5.82\n",
      "MSE: 90.13\n",
      "RMSE: 9.49\n",
      "R²: 0.32\n"
     ]
    }
   ],
   "source": [
    "param_grid = {                  # Setting different parameters to retest the RFR 2 times; \n",
    "    \"n_estimators\": [50, 100],  # with 50 trees and 100 trees;\n",
    "    \"max_depth\": [10, 20],      # with a depth of 10 and 20 splits;\n",
    "    \"min_samples_split\": [2, 5], # Minimum samples before ginfgoing for a new node;\n",
    "    \"min_samples_leaf\": [2, 5, 10]  # Minimum samples in a leaf, the last possible node or the external node (1 risks overfitting);\n",
    "}\n",
    "\n",
    "rfr_gs = RandomForestRegressor(random_state=42) # creating the base model\n",
    "\n",
    "grid_search = GridSearchCV(                     # setting the GridSearch to make 3 cross validations;\n",
    "    estimator=rfr_gs, param_grid=param_grid, \n",
    "    cv=3, n_jobs=-1, scoring=\"neg_mean_absolute_error\"\n",
    ")\n",
    "\n",
    "grid_search.fit(X_train_s, y_train_s)       # applying the GS;\n",
    "\n",
    "best_params = grid_search.best_params_      # saving the best hyparameters;\n",
    "\n",
    "print(\"Best hyperparameters:\", best_params)\n",
    "\n",
    "rf_best = RandomForestRegressor(**best_params, random_state=42) # Training the best RFR with the optimized params;\n",
    "rf_best.fit(X_train_s, y_train_s)\n",
    "\n",
    "y_pred_s = rf_best.predict(X_test_s)            # Making predictions with the \"test\" teams;\n",
    "\n",
    "mae_s = mean_absolute_error(y_test_s, y_pred_s) # Evaluating the optimized model;\n",
    "mse_s = mean_squared_error(y_test_s, y_pred_s)\n",
    "rmse_s = np.sqrt(mse_s)\n",
    "r2_s = r2_score(y_test_s, y_pred_s)\n",
    "\n",
    "print(f\"MAE: {mae_s:.2f}\")      # Mean Absolute Error (= (Real1 - Pred1) + (Real2 - Pred2) +.../n) limited to 2 decimal cases;\n",
    "print(f\"MSE: {mse_s:.2f}\")      # Mean Square Error (= (Real1 - Pred1)2 + (Real2 + Pred2)2 +.../n);\n",
    "print(f\"RMSE: {rmse_s:.2f}\")    # Root Mean Square Error(= √mse);\n",
    "print(f\"R²: {r2_s:.2f}\")        # Square R (Correlation coefficent square = 0-1 = 0-100%);"
   ]
  },
  {
   "cell_type": "markdown",
   "metadata": {},
   "source": [
    "### 2.3 RFR Optimized\n",
    "* with the best hyperparameters proposed by the GridsearchCV:"
   ]
  },
  {
   "cell_type": "code",
   "execution_count": 28,
   "metadata": {},
   "outputs": [
    {
     "name": "stdout",
     "output_type": "stream",
     "text": [
      "MAE: 5.83\n",
      "MSE: 89.23\n",
      "RMSE: 9.45\n",
      "R²: 0.33\n"
     ]
    }
   ],
   "source": [
    "rfr_optimized = RandomForestRegressor(\n",
    "    n_estimators=100,\n",
    "    max_depth=10,\n",
    "    min_samples_split=2,\n",
    "    min_samples_leaf=10,  # Testing with 10 instead of the proposed 5;\n",
    "    random_state=42       # saving the samples\n",
    ")\n",
    "\n",
    "rfr_optimized.fit(X_train_s, y_train_s)\n",
    "\n",
    "y_pred_test = rfr_optimized.predict(X_test_s)\n",
    "\n",
    "mae_test = mean_absolute_error(y_test_s, y_pred_test)\n",
    "mse_test = mean_squared_error(y_test_s, y_pred_test)\n",
    "rmse_test = np.sqrt(mse_test)\n",
    "r2_test = r2_score(y_test_s, y_pred_test)\n",
    "\n",
    "print(f\"MAE: {mae_test:.2f}\")\n",
    "print(f\"MSE: {mse_test:.2f}\")\n",
    "print(f\"RMSE: {rmse_test:.2f}\")\n",
    "print(f\"R²: {r2_test:.2f}\")\n"
   ]
  },
  {
   "cell_type": "markdown",
   "metadata": {},
   "source": [
    "## 2.3 Prophet\n",
    "* Preparing for a fusion of the two models (RFR + P)"
   ]
  },
  {
   "cell_type": "code",
   "execution_count": 34,
   "metadata": {},
   "outputs": [
    {
     "name": "stderr",
     "output_type": "stream",
     "text": [
      "17:34:16 - cmdstanpy - INFO - Chain [1] start processing\n",
      "17:34:17 - cmdstanpy - INFO - Chain [1] done processing\n"
     ]
    },
    {
     "name": "stdout",
     "output_type": "stream",
     "text": [
      "MAE: 5.59\n",
      "MSE: 84.12\n",
      "RMSE: 9.17\n",
      "R²: 0.37\n"
     ]
    }
   ],
   "source": [
    "df_rfr2prophet = df_sliding.copy()      # the df fro prophet;\n",
    "\n",
    "df_rfr2prophet = df_rfr2prophet.rename(columns={\"date_id\": \"ds\", \"PM2.5\": \"y\"}) # getting the column labels needed by Prophet;\n",
    "df_rfr2prophet[\"ds\"] = pd.to_datetime(df_rfr2prophet[\"ds\"])\n",
    "\n",
    "df_prophet = df_rfr2prophet[[\"ds\", \"y\"]].copy()     # isolating the columns needed by prophet;\n",
    "\n",
    "model_prophet = Prophet(yearly_seasonality=True, weekly_seasonality=True, daily_seasonality=False)\n",
    "model_prophet.fit(df_prophet)       # Creating and training the Prophet;\n",
    "\n",
    "future_p = model_prophet.make_future_dataframe(periods=0)  # Predicting only until the end of data period;\n",
    "forecast_p = model_prophet.predict(future_p)\n",
    "\n",
    "df_sliding = df_sliding.merge(forecast_p[[\"ds\", \"yhat\"]], left_on=\"date_id\", right_on=\"ds\", how=\"left\")\n",
    "df_sliding = df_sliding.drop(columns=[\"ds\"])  # Adding the Prophet results to the df and removing \"ds\";\n",
    "\n",
    "X_fusion = df_sliding.drop(columns=[\"date_id\", \"PM2.5\"])  # New Train and Test teams\n",
    "y_fusion = df_sliding[\"PM2.5\"]\n",
    "\n",
    "split_index = int(len(X_fusion) * 0.8)  # Spliting train and test teams by 80-20%\n",
    "X_train_f, X_test_f = X_fusion.iloc[:split_index], X_fusion.iloc[split_index:]\n",
    "y_train_f, y_test_f = y_fusion.iloc[:split_index], y_fusion.iloc[split_index:]\n",
    "\n",
    "# 🟢 9️⃣ **Treinar o RFR com `yhat` incluído**\n",
    "rf_fusion = RandomForestRegressor(\n",
    "    n_estimators=100, max_depth=10, min_samples_split=2, min_samples_leaf=10, random_state=42\n",
    ")\n",
    "rf_fusion.fit(X_train_f, y_train_f)     # Training the fusioned RFR with the Prophet \"yhat\" included; \n",
    "\n",
    "y_pred_fusion = rf_fusion.predict(X_test_f)     # Predicting with the fusioned df;\n",
    "\n",
    "mae_fusion = mean_absolute_error(y_test_f, y_pred_fusion)   # Measuring the efficency; \n",
    "mse_fusion = mean_squared_error(y_test_f, y_pred_fusion)\n",
    "rmse_fusion = np.sqrt(mse_fusion)\n",
    "r2_fusion = r2_score(y_test_f, y_pred_fusion)\n",
    "\n",
    "print(f\"MAE: {mae_fusion:.2f}\")\n",
    "print(f\"MSE: {mse_fusion:.2f}\")\n",
    "print(f\"RMSE: {rmse_fusion:.2f}\")\n",
    "print(f\"R²: {r2_fusion:.2f}\")\n"
   ]
  },
  {
   "cell_type": "markdown",
   "metadata": {},
   "source": [
    "#### Results from the hybrid model:\n",
    "* The Mean Absolute Error (mae) got the best result with the hybrid RFR/Prophet model: 5.59 from 5.83 (RFR optimized) and 7.68 (Prophet);\n",
    "* The Mean Square Error also improved: 84.12 from 89.23 and 130.62;\n",
    "* The RMSE fell to 9.17 from 9.45 and 11.43;\n",
    "* The R2 reached 37% from 33% and 22%;\n"
   ]
  },
  {
   "cell_type": "markdown",
   "metadata": {},
   "source": []
  },
  {
   "cell_type": "markdown",
   "metadata": {},
   "source": []
  }
 ],
 "metadata": {
  "kernelspec": {
   "display_name": "Python 3",
   "language": "python",
   "name": "python3"
  },
  "language_info": {
   "codemirror_mode": {
    "name": "ipython",
    "version": 3
   },
   "file_extension": ".py",
   "mimetype": "text/x-python",
   "name": "python",
   "nbconvert_exporter": "python",
   "pygments_lexer": "ipython3",
   "version": "3.12.9"
  }
 },
 "nbformat": 4,
 "nbformat_minor": 2
}
